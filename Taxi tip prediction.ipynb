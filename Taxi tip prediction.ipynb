{
 "cells": [
  {
   "cell_type": "markdown",
   "metadata": {},
   "source": [
    "@author: Rosa Chaves "
   ]
  },
  {
   "cell_type": "markdown",
   "metadata": {},
   "source": [
    "# TASK 1: DATA EXPLORATION AND CLEANING"
   ]
  },
  {
   "cell_type": "markdown",
   "metadata": {},
   "source": [
    "# 1. DOWNLOAD AND ASSES THE DATA"
   ]
  },
  {
   "cell_type": "markdown",
   "metadata": {},
   "source": [
    "Yellow cab data from the months of March, June and November (2017) has been used. Data from these files is concatenated in the dataframe named \"df\". First lines of raw data are shown.\n"
   ]
  },
  {
   "cell_type": "code",
   "execution_count": 1,
   "metadata": {},
   "outputs": [
    {
     "data": {
      "text/html": [
       "<div>\n",
       "<style scoped>\n",
       "    .dataframe tbody tr th:only-of-type {\n",
       "        vertical-align: middle;\n",
       "    }\n",
       "\n",
       "    .dataframe tbody tr th {\n",
       "        vertical-align: top;\n",
       "    }\n",
       "\n",
       "    .dataframe thead th {\n",
       "        text-align: right;\n",
       "    }\n",
       "</style>\n",
       "<table border=\"1\" class=\"dataframe\">\n",
       "  <thead>\n",
       "    <tr style=\"text-align: right;\">\n",
       "      <th></th>\n",
       "      <th>VendorID</th>\n",
       "      <th>tpep_pickup_datetime</th>\n",
       "      <th>tpep_dropoff_datetime</th>\n",
       "      <th>passenger_count</th>\n",
       "      <th>trip_distance</th>\n",
       "      <th>RatecodeID</th>\n",
       "      <th>store_and_fwd_flag</th>\n",
       "      <th>PULocationID</th>\n",
       "      <th>DOLocationID</th>\n",
       "      <th>payment_type</th>\n",
       "      <th>fare_amount</th>\n",
       "      <th>extra</th>\n",
       "      <th>mta_tax</th>\n",
       "      <th>tip_amount</th>\n",
       "      <th>tolls_amount</th>\n",
       "      <th>improvement_surcharge</th>\n",
       "      <th>total_amount</th>\n",
       "    </tr>\n",
       "  </thead>\n",
       "  <tbody>\n",
       "    <tr>\n",
       "      <th>0</th>\n",
       "      <td>2</td>\n",
       "      <td>2017-03-09 21:30:11</td>\n",
       "      <td>2017-03-09 21:44:20</td>\n",
       "      <td>1</td>\n",
       "      <td>4.06</td>\n",
       "      <td>1</td>\n",
       "      <td>N</td>\n",
       "      <td>148</td>\n",
       "      <td>48</td>\n",
       "      <td>1</td>\n",
       "      <td>14.0</td>\n",
       "      <td>0.5</td>\n",
       "      <td>0.5</td>\n",
       "      <td>3.06</td>\n",
       "      <td>0.0</td>\n",
       "      <td>0.3</td>\n",
       "      <td>18.36</td>\n",
       "    </tr>\n",
       "    <tr>\n",
       "      <th>1</th>\n",
       "      <td>2</td>\n",
       "      <td>2017-03-09 21:47:00</td>\n",
       "      <td>2017-03-09 21:58:01</td>\n",
       "      <td>1</td>\n",
       "      <td>2.73</td>\n",
       "      <td>1</td>\n",
       "      <td>N</td>\n",
       "      <td>48</td>\n",
       "      <td>107</td>\n",
       "      <td>2</td>\n",
       "      <td>11.5</td>\n",
       "      <td>0.5</td>\n",
       "      <td>0.5</td>\n",
       "      <td>0.00</td>\n",
       "      <td>0.0</td>\n",
       "      <td>0.3</td>\n",
       "      <td>12.80</td>\n",
       "    </tr>\n",
       "    <tr>\n",
       "      <th>2</th>\n",
       "      <td>2</td>\n",
       "      <td>2017-03-09 22:01:08</td>\n",
       "      <td>2017-03-09 22:11:16</td>\n",
       "      <td>1</td>\n",
       "      <td>2.27</td>\n",
       "      <td>1</td>\n",
       "      <td>N</td>\n",
       "      <td>79</td>\n",
       "      <td>162</td>\n",
       "      <td>1</td>\n",
       "      <td>10.0</td>\n",
       "      <td>0.5</td>\n",
       "      <td>0.5</td>\n",
       "      <td>2.82</td>\n",
       "      <td>0.0</td>\n",
       "      <td>0.3</td>\n",
       "      <td>14.12</td>\n",
       "    </tr>\n",
       "    <tr>\n",
       "      <th>3</th>\n",
       "      <td>2</td>\n",
       "      <td>2017-03-09 22:16:05</td>\n",
       "      <td>2017-03-10 06:26:11</td>\n",
       "      <td>1</td>\n",
       "      <td>3.86</td>\n",
       "      <td>1</td>\n",
       "      <td>N</td>\n",
       "      <td>237</td>\n",
       "      <td>41</td>\n",
       "      <td>1</td>\n",
       "      <td>12.0</td>\n",
       "      <td>0.5</td>\n",
       "      <td>0.5</td>\n",
       "      <td>3.99</td>\n",
       "      <td>0.0</td>\n",
       "      <td>0.3</td>\n",
       "      <td>17.29</td>\n",
       "    </tr>\n",
       "    <tr>\n",
       "      <th>4</th>\n",
       "      <td>2</td>\n",
       "      <td>2017-03-31 06:31:53</td>\n",
       "      <td>2017-03-31 06:41:48</td>\n",
       "      <td>1</td>\n",
       "      <td>3.45</td>\n",
       "      <td>1</td>\n",
       "      <td>N</td>\n",
       "      <td>41</td>\n",
       "      <td>162</td>\n",
       "      <td>2</td>\n",
       "      <td>12.0</td>\n",
       "      <td>0.5</td>\n",
       "      <td>0.5</td>\n",
       "      <td>0.00</td>\n",
       "      <td>0.0</td>\n",
       "      <td>0.3</td>\n",
       "      <td>13.30</td>\n",
       "    </tr>\n",
       "  </tbody>\n",
       "</table>\n",
       "</div>"
      ],
      "text/plain": [
       "   VendorID tpep_pickup_datetime tpep_dropoff_datetime  passenger_count  \\\n",
       "0         2  2017-03-09 21:30:11   2017-03-09 21:44:20                1   \n",
       "1         2  2017-03-09 21:47:00   2017-03-09 21:58:01                1   \n",
       "2         2  2017-03-09 22:01:08   2017-03-09 22:11:16                1   \n",
       "3         2  2017-03-09 22:16:05   2017-03-10 06:26:11                1   \n",
       "4         2  2017-03-31 06:31:53   2017-03-31 06:41:48                1   \n",
       "\n",
       "   trip_distance  RatecodeID store_and_fwd_flag  PULocationID  DOLocationID  \\\n",
       "0           4.06           1                  N           148            48   \n",
       "1           2.73           1                  N            48           107   \n",
       "2           2.27           1                  N            79           162   \n",
       "3           3.86           1                  N           237            41   \n",
       "4           3.45           1                  N            41           162   \n",
       "\n",
       "   payment_type  fare_amount  extra  mta_tax  tip_amount  tolls_amount  \\\n",
       "0             1         14.0    0.5      0.5        3.06           0.0   \n",
       "1             2         11.5    0.5      0.5        0.00           0.0   \n",
       "2             1         10.0    0.5      0.5        2.82           0.0   \n",
       "3             1         12.0    0.5      0.5        3.99           0.0   \n",
       "4             2         12.0    0.5      0.5        0.00           0.0   \n",
       "\n",
       "   improvement_surcharge  total_amount  \n",
       "0                    0.3         18.36  \n",
       "1                    0.3         12.80  \n",
       "2                    0.3         14.12  \n",
       "3                    0.3         17.29  \n",
       "4                    0.3         13.30  "
      ]
     },
     "execution_count": 1,
     "metadata": {},
     "output_type": "execute_result"
    }
   ],
   "source": [
    "from glob import glob\n",
    "import os\n",
    "import sys\n",
    "import numpy as np\n",
    "import pandas as pd\n",
    "import seaborn as sns\n",
    "import matplotlib.pyplot as plt\n",
    "sns.set(font='sans')\n",
    "\n",
    "all_files=glob(\"/Users/rosa/Desktop/CARTOTask/*.csv\") #it grabs all the csv files from the directory \n",
    "f1=all_files[0]\n",
    "f2=all_files[1]\n",
    "f3=all_files[2]\n",
    "df=pd.concat(pd.read_csv(f) for f in all_files)\n",
    "df.head() #it depicts the first lines of code\n"
   ]
  },
  {
   "cell_type": "markdown",
   "metadata": {},
   "source": [
    "# 2. IDENTIFY AND DOCUMENT ANY ISSUES WITH THE DATA"
   ]
  },
  {
   "cell_type": "markdown",
   "metadata": {},
   "source": [
    "In order to make a first exploration of data, some bar diagrams are shown.\n",
    "For example, as the vendor is concerned the number of trips is similarly distributed."
   ]
  },
  {
   "cell_type": "code",
   "execution_count": 2,
   "metadata": {},
   "outputs": [
    {
     "data": {
      "image/png": "[encoded data removed]",
      "text/plain": [
       "<Figure size 432x288 with 1 Axes>"
      ]
     },
     "metadata": {
      "needs_background": "light"
     },
     "output_type": "display_data"
    }
   ],
   "source": [
    "ax = df.groupby(['VendorID']).size().plot(kind='bar')\n",
    "ax.set_xlabel('vendor_id', fontsize=18)\n",
    "ax.set_ylabel('Number of trips', fontsize=18)\n",
    "ax.tick_params(labelsize=12)"
   ]
  },
  {
   "cell_type": "markdown",
   "metadata": {},
   "source": [
    "With regards to the \"payment_type\", the records come from credit card, followed by cash. It is interesting to observe that the payment type \"card\" has a tip amount while this feature is always 0 in the case of cash. We will use this information for building and testing the model as explained in next sections. The reality is that cash tip might induce to fraud."
   ]
  },
  {
   "cell_type": "code",
   "execution_count": 3,
   "metadata": {},
   "outputs": [
    {
     "data": {
      "image/png": "[encoded data removed]",
      "text/plain": [
       "<Figure size 432x288 with 1 Axes>"
      ]
     },
     "metadata": {
      "needs_background": "light"
     },
     "output_type": "display_data"
    }
   ],
   "source": [
    "ax = df.groupby(['payment_type']).size().plot(kind='bar')\n",
    "\n",
    "ax.set_xlabel('payment_type', fontsize=18)\n",
    "ax.set_ylabel('Number of trips', fontsize=18)\n",
    "ax.tick_params(labelsize=12)"
   ]
  },
  {
   "cell_type": "markdown",
   "metadata": {},
   "source": [
    "In the following, a raw data description with some statistical measurements as the mean, std, min, max, quantiles etc"
   ]
  },
  {
   "cell_type": "code",
   "execution_count": 4,
   "metadata": {},
   "outputs": [
    {
     "data": {
      "text/html": [
       "<div>\n",
       "<style scoped>\n",
       "    .dataframe tbody tr th:only-of-type {\n",
       "        vertical-align: middle;\n",
       "    }\n",
       "\n",
       "    .dataframe tbody tr th {\n",
       "        vertical-align: top;\n",
       "    }\n",
       "\n",
       "    .dataframe thead th {\n",
       "        text-align: right;\n",
       "    }\n",
       "</style>\n",
       "<table border=\"1\" class=\"dataframe\">\n",
       "  <thead>\n",
       "    <tr style=\"text-align: right;\">\n",
       "      <th></th>\n",
       "      <th>VendorID</th>\n",
       "      <th>passenger_count</th>\n",
       "      <th>trip_distance</th>\n",
       "      <th>RatecodeID</th>\n",
       "      <th>PULocationID</th>\n",
       "      <th>DOLocationID</th>\n",
       "      <th>payment_type</th>\n",
       "      <th>fare_amount</th>\n",
       "      <th>extra</th>\n",
       "      <th>mta_tax</th>\n",
       "      <th>tip_amount</th>\n",
       "      <th>tolls_amount</th>\n",
       "      <th>improvement_surcharge</th>\n",
       "      <th>total_amount</th>\n",
       "    </tr>\n",
       "  </thead>\n",
       "  <tbody>\n",
       "    <tr>\n",
       "      <th>count</th>\n",
       "      <td>2.923642e+07</td>\n",
       "      <td>2.923642e+07</td>\n",
       "      <td>2.923642e+07</td>\n",
       "      <td>2.923642e+07</td>\n",
       "      <td>2.923642e+07</td>\n",
       "      <td>2.923642e+07</td>\n",
       "      <td>2.923642e+07</td>\n",
       "      <td>2.923642e+07</td>\n",
       "      <td>2.923642e+07</td>\n",
       "      <td>2.923642e+07</td>\n",
       "      <td>2.923642e+07</td>\n",
       "      <td>2.923642e+07</td>\n",
       "      <td>2.923642e+07</td>\n",
       "      <td>2.923642e+07</td>\n",
       "    </tr>\n",
       "    <tr>\n",
       "      <th>mean</th>\n",
       "      <td>1.545904e+00</td>\n",
       "      <td>1.617798e+00</td>\n",
       "      <td>2.919386e+00</td>\n",
       "      <td>1.043350e+00</td>\n",
       "      <td>1.632024e+02</td>\n",
       "      <td>1.611910e+02</td>\n",
       "      <td>1.329500e+00</td>\n",
       "      <td>1.310930e+01</td>\n",
       "      <td>3.339407e-01</td>\n",
       "      <td>4.973104e-01</td>\n",
       "      <td>1.874055e+00</td>\n",
       "      <td>3.290113e-01</td>\n",
       "      <td>2.996283e-01</td>\n",
       "      <td>1.644710e+01</td>\n",
       "    </tr>\n",
       "    <tr>\n",
       "      <th>std</th>\n",
       "      <td>4.978884e-01</td>\n",
       "      <td>1.260992e+00</td>\n",
       "      <td>4.476535e+00</td>\n",
       "      <td>5.095108e-01</td>\n",
       "      <td>6.661417e+01</td>\n",
       "      <td>7.047819e+01</td>\n",
       "      <td>4.903471e-01</td>\n",
       "      <td>1.472817e+02</td>\n",
       "      <td>4.615744e-01</td>\n",
       "      <td>7.081708e-02</td>\n",
       "      <td>2.645570e+00</td>\n",
       "      <td>1.968881e+00</td>\n",
       "      <td>1.408904e-02</td>\n",
       "      <td>1.475248e+02</td>\n",
       "    </tr>\n",
       "    <tr>\n",
       "      <th>min</th>\n",
       "      <td>1.000000e+00</td>\n",
       "      <td>0.000000e+00</td>\n",
       "      <td>0.000000e+00</td>\n",
       "      <td>1.000000e+00</td>\n",
       "      <td>1.000000e+00</td>\n",
       "      <td>1.000000e+00</td>\n",
       "      <td>1.000000e+00</td>\n",
       "      <td>-5.500000e+02</td>\n",
       "      <td>-5.371000e+01</td>\n",
       "      <td>-5.000000e-01</td>\n",
       "      <td>-1.120000e+02</td>\n",
       "      <td>-1.750000e+01</td>\n",
       "      <td>-3.000000e-01</td>\n",
       "      <td>-5.503000e+02</td>\n",
       "    </tr>\n",
       "    <tr>\n",
       "      <th>25%</th>\n",
       "      <td>1.000000e+00</td>\n",
       "      <td>1.000000e+00</td>\n",
       "      <td>9.700000e-01</td>\n",
       "      <td>1.000000e+00</td>\n",
       "      <td>1.140000e+02</td>\n",
       "      <td>1.070000e+02</td>\n",
       "      <td>1.000000e+00</td>\n",
       "      <td>6.500000e+00</td>\n",
       "      <td>0.000000e+00</td>\n",
       "      <td>5.000000e-01</td>\n",
       "      <td>0.000000e+00</td>\n",
       "      <td>0.000000e+00</td>\n",
       "      <td>3.000000e-01</td>\n",
       "      <td>8.750000e+00</td>\n",
       "    </tr>\n",
       "    <tr>\n",
       "      <th>50%</th>\n",
       "      <td>2.000000e+00</td>\n",
       "      <td>1.000000e+00</td>\n",
       "      <td>1.600000e+00</td>\n",
       "      <td>1.000000e+00</td>\n",
       "      <td>1.620000e+02</td>\n",
       "      <td>1.620000e+02</td>\n",
       "      <td>1.000000e+00</td>\n",
       "      <td>9.500000e+00</td>\n",
       "      <td>0.000000e+00</td>\n",
       "      <td>5.000000e-01</td>\n",
       "      <td>1.360000e+00</td>\n",
       "      <td>0.000000e+00</td>\n",
       "      <td>3.000000e-01</td>\n",
       "      <td>1.180000e+01</td>\n",
       "    </tr>\n",
       "    <tr>\n",
       "      <th>75%</th>\n",
       "      <td>2.000000e+00</td>\n",
       "      <td>2.000000e+00</td>\n",
       "      <td>3.010000e+00</td>\n",
       "      <td>1.000000e+00</td>\n",
       "      <td>2.330000e+02</td>\n",
       "      <td>2.330000e+02</td>\n",
       "      <td>2.000000e+00</td>\n",
       "      <td>1.450000e+01</td>\n",
       "      <td>5.000000e-01</td>\n",
       "      <td>5.000000e-01</td>\n",
       "      <td>2.460000e+00</td>\n",
       "      <td>0.000000e+00</td>\n",
       "      <td>3.000000e-01</td>\n",
       "      <td>1.780000e+01</td>\n",
       "    </tr>\n",
       "    <tr>\n",
       "      <th>max</th>\n",
       "      <td>2.000000e+00</td>\n",
       "      <td>1.920000e+02</td>\n",
       "      <td>9.496980e+03</td>\n",
       "      <td>9.900000e+01</td>\n",
       "      <td>2.650000e+02</td>\n",
       "      <td>2.650000e+02</td>\n",
       "      <td>5.000000e+00</td>\n",
       "      <td>6.304618e+05</td>\n",
       "      <td>6.980000e+01</td>\n",
       "      <td>1.400000e+02</td>\n",
       "      <td>4.500000e+02</td>\n",
       "      <td>1.018950e+03</td>\n",
       "      <td>1.000000e+00</td>\n",
       "      <td>6.304631e+05</td>\n",
       "    </tr>\n",
       "  </tbody>\n",
       "</table>\n",
       "</div>"
      ],
      "text/plain": [
       "           VendorID  passenger_count  trip_distance    RatecodeID  \\\n",
       "count  2.923642e+07     2.923642e+07   2.923642e+07  2.923642e+07   \n",
       "mean   1.545904e+00     1.617798e+00   2.919386e+00  1.043350e+00   \n",
       "std    4.978884e-01     1.260992e+00   4.476535e+00  5.095108e-01   \n",
       "min    1.000000e+00     0.000000e+00   0.000000e+00  1.000000e+00   \n",
       "25%    1.000000e+00     1.000000e+00   9.700000e-01  1.000000e+00   \n",
       "50%    2.000000e+00     1.000000e+00   1.600000e+00  1.000000e+00   \n",
       "75%    2.000000e+00     2.000000e+00   3.010000e+00  1.000000e+00   \n",
       "max    2.000000e+00     1.920000e+02   9.496980e+03  9.900000e+01   \n",
       "\n",
       "       PULocationID  DOLocationID  payment_type   fare_amount         extra  \\\n",
       "count  2.923642e+07  2.923642e+07  2.923642e+07  2.923642e+07  2.923642e+07   \n",
       "mean   1.632024e+02  1.611910e+02  1.329500e+00  1.310930e+01  3.339407e-01   \n",
       "std    6.661417e+01  7.047819e+01  4.903471e-01  1.472817e+02  4.615744e-01   \n",
       "min    1.000000e+00  1.000000e+00  1.000000e+00 -5.500000e+02 -5.371000e+01   \n",
       "25%    1.140000e+02  1.070000e+02  1.000000e+00  6.500000e+00  0.000000e+00   \n",
       "50%    1.620000e+02  1.620000e+02  1.000000e+00  9.500000e+00  0.000000e+00   \n",
       "75%    2.330000e+02  2.330000e+02  2.000000e+00  1.450000e+01  5.000000e-01   \n",
       "max    2.650000e+02  2.650000e+02  5.000000e+00  6.304618e+05  6.980000e+01   \n",
       "\n",
       "            mta_tax    tip_amount  tolls_amount  improvement_surcharge  \\\n",
       "count  2.923642e+07  2.923642e+07  2.923642e+07           2.923642e+07   \n",
       "mean   4.973104e-01  1.874055e+00  3.290113e-01           2.996283e-01   \n",
       "std    7.081708e-02  2.645570e+00  1.968881e+00           1.408904e-02   \n",
       "min   -5.000000e-01 -1.120000e+02 -1.750000e+01          -3.000000e-01   \n",
       "25%    5.000000e-01  0.000000e+00  0.000000e+00           3.000000e-01   \n",
       "50%    5.000000e-01  1.360000e+00  0.000000e+00           3.000000e-01   \n",
       "75%    5.000000e-01  2.460000e+00  0.000000e+00           3.000000e-01   \n",
       "max    1.400000e+02  4.500000e+02  1.018950e+03           1.000000e+00   \n",
       "\n",
       "       total_amount  \n",
       "count  2.923642e+07  \n",
       "mean   1.644710e+01  \n",
       "std    1.475248e+02  \n",
       "min   -5.503000e+02  \n",
       "25%    8.750000e+00  \n",
       "50%    1.180000e+01  \n",
       "75%    1.780000e+01  \n",
       "max    6.304631e+05  "
      ]
     },
     "execution_count": 4,
     "metadata": {},
     "output_type": "execute_result"
    }
   ],
   "source": [
    "df.describe()"
   ]
  },
  {
   "cell_type": "markdown",
   "metadata": {},
   "source": [
    "For example, it is observed that the toll quantity can have a variability of 6.32 dollards that indicates a possible correlation between the regions of pickup and dropoff (PULocationID, DOLocationID) that could be studied. Maybe if the toll is high, the tip decreases (things like that)"
   ]
  },
  {
   "cell_type": "code",
   "execution_count": 5,
   "metadata": {},
   "outputs": [
    {
     "data": {
      "text/plain": [
       "count    1.918000e+03\n",
       "mean     1.524318e+04\n",
       "std      6.329652e+05\n",
       "min      1.000000e+00\n",
       "25%      1.000000e+00\n",
       "50%      2.000000e+00\n",
       "75%      6.000000e+00\n",
       "max      2.769738e+07\n",
       "dtype: float64"
      ]
     },
     "execution_count": 5,
     "metadata": {},
     "output_type": "execute_result"
    }
   ],
   "source": [
    "tolls = df.groupby(['tolls_amount']).size()\n",
    "tolls.describe()"
   ]
  },
  {
   "cell_type": "markdown",
   "metadata": {},
   "source": [
    "0.30 dollars of improvement surcharge assessed trips at the flag drop. The improvement surcharge began being lived in 2015. As data is of 2017, every taxi should have 0.30 or 0 (possible fraud). The rest of values must me cleaned in the following section."
   ]
  },
  {
   "cell_type": "code",
   "execution_count": 6,
   "metadata": {},
   "outputs": [],
   "source": [
    "isurcharge = df.groupby(['improvement_surcharge']).size()"
   ]
  },
  {
   "cell_type": "code",
   "execution_count": 7,
   "metadata": {},
   "outputs": [
    {
     "data": {
      "text/plain": [
       "improvement_surcharge\n",
       "-0.30       14038\n",
       " 0.00        8216\n",
       " 0.25          10\n",
       " 0.30    29214128\n",
       " 0.50           2\n",
       " 0.55           1\n",
       " 1.00          29\n",
       "dtype: int64"
      ]
     },
     "execution_count": 7,
     "metadata": {},
     "output_type": "execute_result"
    }
   ],
   "source": [
    "isurcharge"
   ]
  },
  {
   "cell_type": "markdown",
   "metadata": {},
   "source": [
    "Store_and_fwd_flag is a feature that can be eliminated as it does not add any interesting information for the model (it is always \"no\")"
   ]
  },
  {
   "cell_type": "code",
   "execution_count": 8,
   "metadata": {},
   "outputs": [
    {
     "data": {
      "image/png": "[encoded data removed]",
      "text/plain": [
       "<Figure size 432x288 with 1 Axes>"
      ]
     },
     "metadata": {
      "needs_background": "light"
     },
     "output_type": "display_data"
    }
   ],
   "source": [
    "ax = df.groupby(['store_and_fwd_flag']).size().plot(kind='bar')\n",
    "\n",
    "ax.set_xlabel('storefwdflag', fontsize=18)\n",
    "ax.set_ylabel('Number of trips', fontsize=18)\n",
    "ax.tick_params(labelsize=12)"
   ]
  },
  {
   "cell_type": "code",
   "execution_count": null,
   "metadata": {},
   "outputs": [],
   "source": [
    "fares=df.groupby(['fare_amount']).size()\n"
   ]
  },
  {
   "cell_type": "markdown",
   "metadata": {},
   "source": [
    "Fare_amount contains negative values. This must be cleaned in the next section"
   ]
  },
  {
   "cell_type": "code",
   "execution_count": 89,
   "metadata": {},
   "outputs": [
    {
     "data": {
      "text/plain": [
       "mta_tax\n",
       "-0.50     13639\n",
       " 0.00    133414\n",
       " 0.25        62\n",
       " 0.32         4\n",
       " 0.35         3\n",
       "dtype: int64"
      ]
     },
     "execution_count": 89,
     "metadata": {},
     "output_type": "execute_result"
    }
   ],
   "source": [
    "mtax=df.groupby(['mta_tax']).size()\n",
    "mtax.head()"
   ]
  },
  {
   "cell_type": "markdown",
   "metadata": {},
   "source": [
    "As mta_tax is concerned, 0.5 dollars is automatically triggered for a meter rate in use. In order to construct a clean model in which it does exist a correlation with the trip duration, regions of picking and dropoff etc. just 0.5 will be considered. One can see more details in the cleaning part."
   ]
  },
  {
   "cell_type": "markdown",
   "metadata": {},
   "source": [
    "# Date and time obtaining"
   ]
  },
  {
   "cell_type": "markdown",
   "metadata": {},
   "source": [
    "The date and time format is not easy to drive with the raw format. The function calculate_datetime_extra, obtains the pick and drop hour (this can be interesting for further studies of busy hour in New York). The month is also interesting (maybe in a summer month there is less traffic or the tips are higher for some reason. This correlations could be studied in more detail, for instance). "
   ]
  },
  {
   "cell_type": "code",
   "execution_count": 11,
   "metadata": {},
   "outputs": [],
   "source": [
    "column_pickup='tpep_pickup_datetime'\n",
    "column_dropoff='tpep_dropoff_datetime'\n",
    "\n",
    "def calculate_datetime_extra(column_pickup, column_dropoff):\n",
    "    rng=pd.DataFrame()\n",
    "    rng['date']=df[column_pickup]\n",
    "    df['Time'] = pd.to_datetime(rng['date']) \n",
    "    month1=df['Time'].dt.month\n",
    "    day1=df['Time'].dt.day\n",
    "    hour1=df['Time'].dt.hour\n",
    "    minute1=df['Time'].dt.minute\n",
    "    rng['date']=df[column_dropoff]\n",
    "    df['Time'] = pd.to_datetime(rng['date'])\n",
    "    month2=df['Time'].dt.month\n",
    "    day2=df['Time'].dt.day\n",
    "    hour2=df['Time'].dt.hour\n",
    "    minute2=df['Time'].dt.minute\n",
    "    newdate = pd.concat([hour1,minute1,hour2,minute2,month1],axis=1, join='inner')\n",
    "    newdate.columns=['hpick','mpick','hdrop','mdrop','month']\n",
    "    return newdate\n"
   ]
  },
  {
   "cell_type": "code",
   "execution_count": 12,
   "metadata": {},
   "outputs": [
    {
     "data": {
      "text/html": [
       "<div>\n",
       "<style scoped>\n",
       "    .dataframe tbody tr th:only-of-type {\n",
       "        vertical-align: middle;\n",
       "    }\n",
       "\n",
       "    .dataframe tbody tr th {\n",
       "        vertical-align: top;\n",
       "    }\n",
       "\n",
       "    .dataframe thead th {\n",
       "        text-align: right;\n",
       "    }\n",
       "</style>\n",
       "<table border=\"1\" class=\"dataframe\">\n",
       "  <thead>\n",
       "    <tr style=\"text-align: right;\">\n",
       "      <th></th>\n",
       "      <th>hpick</th>\n",
       "      <th>mpick</th>\n",
       "      <th>hdrop</th>\n",
       "      <th>mdrop</th>\n",
       "      <th>month</th>\n",
       "    </tr>\n",
       "  </thead>\n",
       "  <tbody>\n",
       "    <tr>\n",
       "      <th>0</th>\n",
       "      <td>21</td>\n",
       "      <td>30</td>\n",
       "      <td>21</td>\n",
       "      <td>44</td>\n",
       "      <td>3</td>\n",
       "    </tr>\n",
       "    <tr>\n",
       "      <th>1</th>\n",
       "      <td>21</td>\n",
       "      <td>47</td>\n",
       "      <td>21</td>\n",
       "      <td>58</td>\n",
       "      <td>3</td>\n",
       "    </tr>\n",
       "  </tbody>\n",
       "</table>\n",
       "</div>"
      ],
      "text/plain": [
       "   hpick  mpick  hdrop  mdrop  month\n",
       "0     21     30     21     44      3\n",
       "1     21     47     21     58      3"
      ]
     },
     "execution_count": 12,
     "metadata": {},
     "output_type": "execute_result"
    }
   ],
   "source": [
    "times=calculate_datetime_extra(column_pickup, column_dropoff)\n",
    "times.head(2)"
   ]
  },
  {
   "cell_type": "markdown",
   "metadata": {},
   "source": [
    "This new feature will be added to the cleaned dataset: trip duration. Maybe, a busy executive appreciates to arrive at his destiny in a shorter period."
   ]
  },
  {
   "cell_type": "code",
   "execution_count": 13,
   "metadata": {},
   "outputs": [],
   "source": [
    "#this function calculates the duration of a taxi ride in minutes\n",
    "def calculate_duration(times):\n",
    "    duration=abs(times['hdrop']-times['hpick'])*60+abs(times['mdrop']-times['mpick'])\n",
    "    nextday = ((times['hpick'] >12) & (times['hdrop'] < 12))    \n",
    "    duration[nextday]=abs(times['hdrop']+24-times['hpick'])*60+abs(times['mdrop']-times['mpick']) \n",
    "    return duration   "
   ]
  },
  {
   "cell_type": "code",
   "execution_count": 14,
   "metadata": {},
   "outputs": [],
   "source": [
    "duration=calculate_duration(times)\n",
    "durationdate=pd.concat([times,duration],axis=1, join='inner')\n",
    "durationdate.columns=['hpick','mpick','hdrop','mdrop','month','duration']"
   ]
  },
  {
   "cell_type": "code",
   "execution_count": 15,
   "metadata": {},
   "outputs": [
    {
     "data": {
      "text/html": [
       "<div>\n",
       "<style scoped>\n",
       "    .dataframe tbody tr th:only-of-type {\n",
       "        vertical-align: middle;\n",
       "    }\n",
       "\n",
       "    .dataframe tbody tr th {\n",
       "        vertical-align: top;\n",
       "    }\n",
       "\n",
       "    .dataframe thead th {\n",
       "        text-align: right;\n",
       "    }\n",
       "</style>\n",
       "<table border=\"1\" class=\"dataframe\">\n",
       "  <thead>\n",
       "    <tr style=\"text-align: right;\">\n",
       "      <th></th>\n",
       "      <th>hpick</th>\n",
       "      <th>mpick</th>\n",
       "      <th>hdrop</th>\n",
       "      <th>mdrop</th>\n",
       "      <th>month</th>\n",
       "      <th>duration</th>\n",
       "    </tr>\n",
       "  </thead>\n",
       "  <tbody>\n",
       "    <tr>\n",
       "      <th>0</th>\n",
       "      <td>21</td>\n",
       "      <td>30</td>\n",
       "      <td>21</td>\n",
       "      <td>44</td>\n",
       "      <td>3</td>\n",
       "      <td>14</td>\n",
       "    </tr>\n",
       "    <tr>\n",
       "      <th>1</th>\n",
       "      <td>21</td>\n",
       "      <td>47</td>\n",
       "      <td>21</td>\n",
       "      <td>58</td>\n",
       "      <td>3</td>\n",
       "      <td>11</td>\n",
       "    </tr>\n",
       "    <tr>\n",
       "      <th>2</th>\n",
       "      <td>22</td>\n",
       "      <td>1</td>\n",
       "      <td>22</td>\n",
       "      <td>11</td>\n",
       "      <td>3</td>\n",
       "      <td>10</td>\n",
       "    </tr>\n",
       "  </tbody>\n",
       "</table>\n",
       "</div>"
      ],
      "text/plain": [
       "   hpick  mpick  hdrop  mdrop  month  duration\n",
       "0     21     30     21     44      3        14\n",
       "1     21     47     21     58      3        11\n",
       "2     22      1     22     11      3        10"
      ]
     },
     "execution_count": 15,
     "metadata": {},
     "output_type": "execute_result"
    }
   ],
   "source": [
    "durationdate.head(3)"
   ]
  },
  {
   "cell_type": "code",
   "execution_count": 16,
   "metadata": {},
   "outputs": [
    {
     "data": {
      "text/html": [
       "<div>\n",
       "<style scoped>\n",
       "    .dataframe tbody tr th:only-of-type {\n",
       "        vertical-align: middle;\n",
       "    }\n",
       "\n",
       "    .dataframe tbody tr th {\n",
       "        vertical-align: top;\n",
       "    }\n",
       "\n",
       "    .dataframe thead th {\n",
       "        text-align: right;\n",
       "    }\n",
       "</style>\n",
       "<table border=\"1\" class=\"dataframe\">\n",
       "  <thead>\n",
       "    <tr style=\"text-align: right;\">\n",
       "      <th></th>\n",
       "      <th>hpick</th>\n",
       "      <th>mpick</th>\n",
       "      <th>hdrop</th>\n",
       "      <th>mdrop</th>\n",
       "      <th>month</th>\n",
       "      <th>duration</th>\n",
       "      <th>VendorID</th>\n",
       "      <th>tpep_pickup_datetime</th>\n",
       "      <th>tpep_dropoff_datetime</th>\n",
       "      <th>passenger_count</th>\n",
       "      <th>...</th>\n",
       "      <th>DOLocationID</th>\n",
       "      <th>payment_type</th>\n",
       "      <th>fare_amount</th>\n",
       "      <th>extra</th>\n",
       "      <th>mta_tax</th>\n",
       "      <th>tip_amount</th>\n",
       "      <th>tolls_amount</th>\n",
       "      <th>improvement_surcharge</th>\n",
       "      <th>total_amount</th>\n",
       "      <th>Time</th>\n",
       "    </tr>\n",
       "  </thead>\n",
       "  <tbody>\n",
       "    <tr>\n",
       "      <th>0</th>\n",
       "      <td>21</td>\n",
       "      <td>30</td>\n",
       "      <td>21</td>\n",
       "      <td>44</td>\n",
       "      <td>3</td>\n",
       "      <td>14</td>\n",
       "      <td>2</td>\n",
       "      <td>2017-03-09 21:30:11</td>\n",
       "      <td>2017-03-09 21:44:20</td>\n",
       "      <td>1</td>\n",
       "      <td>...</td>\n",
       "      <td>48</td>\n",
       "      <td>1</td>\n",
       "      <td>14.0</td>\n",
       "      <td>0.5</td>\n",
       "      <td>0.5</td>\n",
       "      <td>3.06</td>\n",
       "      <td>0.0</td>\n",
       "      <td>0.3</td>\n",
       "      <td>18.36</td>\n",
       "      <td>2017-03-09 21:44:20</td>\n",
       "    </tr>\n",
       "    <tr>\n",
       "      <th>1</th>\n",
       "      <td>21</td>\n",
       "      <td>47</td>\n",
       "      <td>21</td>\n",
       "      <td>58</td>\n",
       "      <td>3</td>\n",
       "      <td>11</td>\n",
       "      <td>2</td>\n",
       "      <td>2017-03-09 21:47:00</td>\n",
       "      <td>2017-03-09 21:58:01</td>\n",
       "      <td>1</td>\n",
       "      <td>...</td>\n",
       "      <td>107</td>\n",
       "      <td>2</td>\n",
       "      <td>11.5</td>\n",
       "      <td>0.5</td>\n",
       "      <td>0.5</td>\n",
       "      <td>0.00</td>\n",
       "      <td>0.0</td>\n",
       "      <td>0.3</td>\n",
       "      <td>12.80</td>\n",
       "      <td>2017-03-09 21:58:01</td>\n",
       "    </tr>\n",
       "  </tbody>\n",
       "</table>\n",
       "<p>2 rows × 24 columns</p>\n",
       "</div>"
      ],
      "text/plain": [
       "   hpick  mpick  hdrop  mdrop  month  duration  VendorID tpep_pickup_datetime  \\\n",
       "0     21     30     21     44      3        14         2  2017-03-09 21:30:11   \n",
       "1     21     47     21     58      3        11         2  2017-03-09 21:47:00   \n",
       "\n",
       "  tpep_dropoff_datetime  passenger_count         ...          DOLocationID  \\\n",
       "0   2017-03-09 21:44:20                1         ...                    48   \n",
       "1   2017-03-09 21:58:01                1         ...                   107   \n",
       "\n",
       "   payment_type fare_amount  extra  mta_tax  tip_amount  tolls_amount  \\\n",
       "0             1        14.0    0.5      0.5        3.06           0.0   \n",
       "1             2        11.5    0.5      0.5        0.00           0.0   \n",
       "\n",
       "   improvement_surcharge  total_amount                Time  \n",
       "0                    0.3         18.36 2017-03-09 21:44:20  \n",
       "1                    0.3         12.80 2017-03-09 21:58:01  \n",
       "\n",
       "[2 rows x 24 columns]"
      ]
     },
     "execution_count": 16,
     "metadata": {},
     "output_type": "execute_result"
    }
   ],
   "source": [
    "newdf=pd.concat([durationdate,df],axis=1, join='inner')\n",
    "newdf.head(2)"
   ]
  },
  {
   "cell_type": "markdown",
   "metadata": {},
   "source": [
    "# 3. DOCUMENT HOW YOU RESOLVED THESE ISSUES"
   ]
  },
  {
   "cell_type": "markdown",
   "metadata": {},
   "source": [
    "Taking into account all the analysis done above, we can clean the database with the range explained in the following.In order to construct a reliable model, i will just use payment_type card because we have registered the tip. And in a test phase, I will use cash data to see performance results, possible causes of fraud etc. "
   ]
  },
  {
   "cell_type": "code",
   "execution_count": 17,
   "metadata": {
    "scrolled": true
   },
   "outputs": [
    {
     "data": {
      "text/html": [
       "<div>\n",
       "<style scoped>\n",
       "    .dataframe tbody tr th:only-of-type {\n",
       "        vertical-align: middle;\n",
       "    }\n",
       "\n",
       "    .dataframe tbody tr th {\n",
       "        vertical-align: top;\n",
       "    }\n",
       "\n",
       "    .dataframe thead th {\n",
       "        text-align: right;\n",
       "    }\n",
       "</style>\n",
       "<table border=\"1\" class=\"dataframe\">\n",
       "  <thead>\n",
       "    <tr style=\"text-align: right;\">\n",
       "      <th></th>\n",
       "      <th>hpick</th>\n",
       "      <th>mpick</th>\n",
       "      <th>hdrop</th>\n",
       "      <th>mdrop</th>\n",
       "      <th>month</th>\n",
       "      <th>duration</th>\n",
       "      <th>VendorID</th>\n",
       "      <th>passenger_count</th>\n",
       "      <th>trip_distance</th>\n",
       "      <th>RatecodeID</th>\n",
       "      <th>PULocationID</th>\n",
       "      <th>DOLocationID</th>\n",
       "      <th>payment_type</th>\n",
       "      <th>fare_amount</th>\n",
       "      <th>extra</th>\n",
       "      <th>mta_tax</th>\n",
       "      <th>tip_amount</th>\n",
       "      <th>tolls_amount</th>\n",
       "      <th>improvement_surcharge</th>\n",
       "      <th>total_amount</th>\n",
       "    </tr>\n",
       "  </thead>\n",
       "  <tbody>\n",
       "    <tr>\n",
       "      <th>count</th>\n",
       "      <td>2.923642e+07</td>\n",
       "      <td>2.923642e+07</td>\n",
       "      <td>2.923642e+07</td>\n",
       "      <td>2.923642e+07</td>\n",
       "      <td>2.923642e+07</td>\n",
       "      <td>2.923642e+07</td>\n",
       "      <td>2.923642e+07</td>\n",
       "      <td>2.923642e+07</td>\n",
       "      <td>2.923642e+07</td>\n",
       "      <td>2.923642e+07</td>\n",
       "      <td>2.923642e+07</td>\n",
       "      <td>2.923642e+07</td>\n",
       "      <td>2.923642e+07</td>\n",
       "      <td>2.923642e+07</td>\n",
       "      <td>2.923642e+07</td>\n",
       "      <td>2.923642e+07</td>\n",
       "      <td>2.923642e+07</td>\n",
       "      <td>2.923642e+07</td>\n",
       "      <td>2.923642e+07</td>\n",
       "      <td>2.923642e+07</td>\n",
       "    </tr>\n",
       "    <tr>\n",
       "      <th>mean</th>\n",
       "      <td>1.369903e+01</td>\n",
       "      <td>2.955795e+01</td>\n",
       "      <td>1.371382e+01</td>\n",
       "      <td>2.962155e+01</td>\n",
       "      <td>6.531522e+00</td>\n",
       "      <td>3.253904e+01</td>\n",
       "      <td>1.545904e+00</td>\n",
       "      <td>1.617798e+00</td>\n",
       "      <td>2.919386e+00</td>\n",
       "      <td>1.043350e+00</td>\n",
       "      <td>1.632024e+02</td>\n",
       "      <td>1.611910e+02</td>\n",
       "      <td>1.329500e+00</td>\n",
       "      <td>1.310930e+01</td>\n",
       "      <td>3.339407e-01</td>\n",
       "      <td>4.973104e-01</td>\n",
       "      <td>1.874055e+00</td>\n",
       "      <td>3.290113e-01</td>\n",
       "      <td>2.996283e-01</td>\n",
       "      <td>1.644710e+01</td>\n",
       "    </tr>\n",
       "    <tr>\n",
       "      <th>std</th>\n",
       "      <td>6.257811e+00</td>\n",
       "      <td>1.733013e+01</td>\n",
       "      <td>6.347263e+00</td>\n",
       "      <td>1.741154e+01</td>\n",
       "      <td>3.290276e+00</td>\n",
       "      <td>3.922124e+01</td>\n",
       "      <td>4.978884e-01</td>\n",
       "      <td>1.260992e+00</td>\n",
       "      <td>4.476535e+00</td>\n",
       "      <td>5.095108e-01</td>\n",
       "      <td>6.661417e+01</td>\n",
       "      <td>7.047819e+01</td>\n",
       "      <td>4.903471e-01</td>\n",
       "      <td>1.472817e+02</td>\n",
       "      <td>4.615744e-01</td>\n",
       "      <td>7.081708e-02</td>\n",
       "      <td>2.645570e+00</td>\n",
       "      <td>1.968881e+00</td>\n",
       "      <td>1.408904e-02</td>\n",
       "      <td>1.475248e+02</td>\n",
       "    </tr>\n",
       "    <tr>\n",
       "      <th>min</th>\n",
       "      <td>0.000000e+00</td>\n",
       "      <td>0.000000e+00</td>\n",
       "      <td>0.000000e+00</td>\n",
       "      <td>0.000000e+00</td>\n",
       "      <td>1.000000e+00</td>\n",
       "      <td>0.000000e+00</td>\n",
       "      <td>1.000000e+00</td>\n",
       "      <td>0.000000e+00</td>\n",
       "      <td>0.000000e+00</td>\n",
       "      <td>1.000000e+00</td>\n",
       "      <td>1.000000e+00</td>\n",
       "      <td>1.000000e+00</td>\n",
       "      <td>1.000000e+00</td>\n",
       "      <td>-5.500000e+02</td>\n",
       "      <td>-5.371000e+01</td>\n",
       "      <td>-5.000000e-01</td>\n",
       "      <td>-1.120000e+02</td>\n",
       "      <td>-1.750000e+01</td>\n",
       "      <td>-3.000000e-01</td>\n",
       "      <td>-5.503000e+02</td>\n",
       "    </tr>\n",
       "    <tr>\n",
       "      <th>25%</th>\n",
       "      <td>9.000000e+00</td>\n",
       "      <td>1.500000e+01</td>\n",
       "      <td>9.000000e+00</td>\n",
       "      <td>1.500000e+01</td>\n",
       "      <td>3.000000e+00</td>\n",
       "      <td>7.000000e+00</td>\n",
       "      <td>1.000000e+00</td>\n",
       "      <td>1.000000e+00</td>\n",
       "      <td>9.700000e-01</td>\n",
       "      <td>1.000000e+00</td>\n",
       "      <td>1.140000e+02</td>\n",
       "      <td>1.070000e+02</td>\n",
       "      <td>1.000000e+00</td>\n",
       "      <td>6.500000e+00</td>\n",
       "      <td>0.000000e+00</td>\n",
       "      <td>5.000000e-01</td>\n",
       "      <td>0.000000e+00</td>\n",
       "      <td>0.000000e+00</td>\n",
       "      <td>3.000000e-01</td>\n",
       "      <td>8.750000e+00</td>\n",
       "    </tr>\n",
       "    <tr>\n",
       "      <th>50%</th>\n",
       "      <td>1.400000e+01</td>\n",
       "      <td>3.000000e+01</td>\n",
       "      <td>1.400000e+01</td>\n",
       "      <td>3.000000e+01</td>\n",
       "      <td>6.000000e+00</td>\n",
       "      <td>1.300000e+01</td>\n",
       "      <td>2.000000e+00</td>\n",
       "      <td>1.000000e+00</td>\n",
       "      <td>1.600000e+00</td>\n",
       "      <td>1.000000e+00</td>\n",
       "      <td>1.620000e+02</td>\n",
       "      <td>1.620000e+02</td>\n",
       "      <td>1.000000e+00</td>\n",
       "      <td>9.500000e+00</td>\n",
       "      <td>0.000000e+00</td>\n",
       "      <td>5.000000e-01</td>\n",
       "      <td>1.360000e+00</td>\n",
       "      <td>0.000000e+00</td>\n",
       "      <td>3.000000e-01</td>\n",
       "      <td>1.180000e+01</td>\n",
       "    </tr>\n",
       "    <tr>\n",
       "      <th>75%</th>\n",
       "      <td>1.900000e+01</td>\n",
       "      <td>4.500000e+01</td>\n",
       "      <td>1.900000e+01</td>\n",
       "      <td>4.500000e+01</td>\n",
       "      <td>1.100000e+01</td>\n",
       "      <td>3.800000e+01</td>\n",
       "      <td>2.000000e+00</td>\n",
       "      <td>2.000000e+00</td>\n",
       "      <td>3.010000e+00</td>\n",
       "      <td>1.000000e+00</td>\n",
       "      <td>2.330000e+02</td>\n",
       "      <td>2.330000e+02</td>\n",
       "      <td>2.000000e+00</td>\n",
       "      <td>1.450000e+01</td>\n",
       "      <td>5.000000e-01</td>\n",
       "      <td>5.000000e-01</td>\n",
       "      <td>2.460000e+00</td>\n",
       "      <td>0.000000e+00</td>\n",
       "      <td>3.000000e-01</td>\n",
       "      <td>1.780000e+01</td>\n",
       "    </tr>\n",
       "    <tr>\n",
       "      <th>max</th>\n",
       "      <td>2.300000e+01</td>\n",
       "      <td>5.900000e+01</td>\n",
       "      <td>2.300000e+01</td>\n",
       "      <td>5.900000e+01</td>\n",
       "      <td>1.200000e+01</td>\n",
       "      <td>1.439000e+03</td>\n",
       "      <td>2.000000e+00</td>\n",
       "      <td>1.920000e+02</td>\n",
       "      <td>9.496980e+03</td>\n",
       "      <td>9.900000e+01</td>\n",
       "      <td>2.650000e+02</td>\n",
       "      <td>2.650000e+02</td>\n",
       "      <td>5.000000e+00</td>\n",
       "      <td>6.304618e+05</td>\n",
       "      <td>6.980000e+01</td>\n",
       "      <td>1.400000e+02</td>\n",
       "      <td>4.500000e+02</td>\n",
       "      <td>1.018950e+03</td>\n",
       "      <td>1.000000e+00</td>\n",
       "      <td>6.304631e+05</td>\n",
       "    </tr>\n",
       "  </tbody>\n",
       "</table>\n",
       "</div>"
      ],
      "text/plain": [
       "              hpick         mpick         hdrop         mdrop         month  \\\n",
       "count  2.923642e+07  2.923642e+07  2.923642e+07  2.923642e+07  2.923642e+07   \n",
       "mean   1.369903e+01  2.955795e+01  1.371382e+01  2.962155e+01  6.531522e+00   \n",
       "std    6.257811e+00  1.733013e+01  6.347263e+00  1.741154e+01  3.290276e+00   \n",
       "min    0.000000e+00  0.000000e+00  0.000000e+00  0.000000e+00  1.000000e+00   \n",
       "25%    9.000000e+00  1.500000e+01  9.000000e+00  1.500000e+01  3.000000e+00   \n",
       "50%    1.400000e+01  3.000000e+01  1.400000e+01  3.000000e+01  6.000000e+00   \n",
       "75%    1.900000e+01  4.500000e+01  1.900000e+01  4.500000e+01  1.100000e+01   \n",
       "max    2.300000e+01  5.900000e+01  2.300000e+01  5.900000e+01  1.200000e+01   \n",
       "\n",
       "           duration      VendorID  passenger_count  trip_distance  \\\n",
       "count  2.923642e+07  2.923642e+07     2.923642e+07   2.923642e+07   \n",
       "mean   3.253904e+01  1.545904e+00     1.617798e+00   2.919386e+00   \n",
       "std    3.922124e+01  4.978884e-01     1.260992e+00   4.476535e+00   \n",
       "min    0.000000e+00  1.000000e+00     0.000000e+00   0.000000e+00   \n",
       "25%    7.000000e+00  1.000000e+00     1.000000e+00   9.700000e-01   \n",
       "50%    1.300000e+01  2.000000e+00     1.000000e+00   1.600000e+00   \n",
       "75%    3.800000e+01  2.000000e+00     2.000000e+00   3.010000e+00   \n",
       "max    1.439000e+03  2.000000e+00     1.920000e+02   9.496980e+03   \n",
       "\n",
       "         RatecodeID  PULocationID  DOLocationID  payment_type   fare_amount  \\\n",
       "count  2.923642e+07  2.923642e+07  2.923642e+07  2.923642e+07  2.923642e+07   \n",
       "mean   1.043350e+00  1.632024e+02  1.611910e+02  1.329500e+00  1.310930e+01   \n",
       "std    5.095108e-01  6.661417e+01  7.047819e+01  4.903471e-01  1.472817e+02   \n",
       "min    1.000000e+00  1.000000e+00  1.000000e+00  1.000000e+00 -5.500000e+02   \n",
       "25%    1.000000e+00  1.140000e+02  1.070000e+02  1.000000e+00  6.500000e+00   \n",
       "50%    1.000000e+00  1.620000e+02  1.620000e+02  1.000000e+00  9.500000e+00   \n",
       "75%    1.000000e+00  2.330000e+02  2.330000e+02  2.000000e+00  1.450000e+01   \n",
       "max    9.900000e+01  2.650000e+02  2.650000e+02  5.000000e+00  6.304618e+05   \n",
       "\n",
       "              extra       mta_tax    tip_amount  tolls_amount  \\\n",
       "count  2.923642e+07  2.923642e+07  2.923642e+07  2.923642e+07   \n",
       "mean   3.339407e-01  4.973104e-01  1.874055e+00  3.290113e-01   \n",
       "std    4.615744e-01  7.081708e-02  2.645570e+00  1.968881e+00   \n",
       "min   -5.371000e+01 -5.000000e-01 -1.120000e+02 -1.750000e+01   \n",
       "25%    0.000000e+00  5.000000e-01  0.000000e+00  0.000000e+00   \n",
       "50%    0.000000e+00  5.000000e-01  1.360000e+00  0.000000e+00   \n",
       "75%    5.000000e-01  5.000000e-01  2.460000e+00  0.000000e+00   \n",
       "max    6.980000e+01  1.400000e+02  4.500000e+02  1.018950e+03   \n",
       "\n",
       "       improvement_surcharge  total_amount  \n",
       "count           2.923642e+07  2.923642e+07  \n",
       "mean            2.996283e-01  1.644710e+01  \n",
       "std             1.408904e-02  1.475248e+02  \n",
       "min            -3.000000e-01 -5.503000e+02  \n",
       "25%             3.000000e-01  8.750000e+00  \n",
       "50%             3.000000e-01  1.180000e+01  \n",
       "75%             3.000000e-01  1.780000e+01  \n",
       "max             1.000000e+00  6.304631e+05  "
      ]
     },
     "execution_count": 17,
     "metadata": {},
     "output_type": "execute_result"
    }
   ],
   "source": [
    "\n",
    "payment_type = (newdf.payment_type == 1) #payment_type=2 (cash) has a tip of 0 always, so it will add noise to the model\n",
    "fare_amount = ((newdf.fare_amount >= 5.0) & (newdf.fare_amount <= 500.0))\n",
    "surcharge = ((newdf.improvement_surcharge == 0.0) | (newdf.improvement_surcharge == 0.3))\n",
    "mta_tax = (newdf.mta_tax == 0.5)\n",
    "tip_amount = ((newdf.tip_amount >= 0.0) & (newdf.tip_amount <= 100.0))\n",
    "tolls_amount = ((newdf.tolls_amount >= 0.0) & (newdf.tolls_amount <= 30.0))\n",
    "\n",
    "newdf.describe()"
   ]
  },
  {
   "cell_type": "markdown",
   "metadata": {},
   "source": [
    "In the clean dataframe named \"newdf\", columns as minutes of picking/dropoff, store_and_fwd_flag etc will not be considered. The month, duration, hour of picking/dropping will be added. The day information has not been added as I am not considering holidays, weekends or workdays in my studies. Undoubtedly this could be interesting to take into account in the future."
   ]
  },
  {
   "cell_type": "code",
   "execution_count": 18,
   "metadata": {},
   "outputs": [
    {
     "data": {
      "text/html": [
       "<div>\n",
       "<style scoped>\n",
       "    .dataframe tbody tr th:only-of-type {\n",
       "        vertical-align: middle;\n",
       "    }\n",
       "\n",
       "    .dataframe tbody tr th {\n",
       "        vertical-align: top;\n",
       "    }\n",
       "\n",
       "    .dataframe thead th {\n",
       "        text-align: right;\n",
       "    }\n",
       "</style>\n",
       "<table border=\"1\" class=\"dataframe\">\n",
       "  <thead>\n",
       "    <tr style=\"text-align: right;\">\n",
       "      <th></th>\n",
       "      <th>hpick</th>\n",
       "      <th>hdrop</th>\n",
       "      <th>month</th>\n",
       "      <th>duration</th>\n",
       "      <th>VendorID</th>\n",
       "      <th>passenger_count</th>\n",
       "      <th>trip_distance</th>\n",
       "      <th>RatecodeID</th>\n",
       "      <th>PULocationID</th>\n",
       "      <th>DOLocationID</th>\n",
       "      <th>payment_type</th>\n",
       "      <th>fare_amount</th>\n",
       "      <th>extra</th>\n",
       "      <th>mta_tax</th>\n",
       "      <th>tip_amount</th>\n",
       "      <th>tolls_amount</th>\n",
       "      <th>improvement_surcharge</th>\n",
       "      <th>total_amount</th>\n",
       "    </tr>\n",
       "  </thead>\n",
       "  <tbody>\n",
       "    <tr>\n",
       "      <th>0</th>\n",
       "      <td>21</td>\n",
       "      <td>21</td>\n",
       "      <td>3</td>\n",
       "      <td>14</td>\n",
       "      <td>2</td>\n",
       "      <td>1</td>\n",
       "      <td>4.06</td>\n",
       "      <td>1</td>\n",
       "      <td>148</td>\n",
       "      <td>48</td>\n",
       "      <td>1</td>\n",
       "      <td>14.0</td>\n",
       "      <td>0.5</td>\n",
       "      <td>0.5</td>\n",
       "      <td>3.06</td>\n",
       "      <td>0.0</td>\n",
       "      <td>0.3</td>\n",
       "      <td>18.36</td>\n",
       "    </tr>\n",
       "    <tr>\n",
       "      <th>2</th>\n",
       "      <td>22</td>\n",
       "      <td>22</td>\n",
       "      <td>3</td>\n",
       "      <td>10</td>\n",
       "      <td>2</td>\n",
       "      <td>1</td>\n",
       "      <td>2.27</td>\n",
       "      <td>1</td>\n",
       "      <td>79</td>\n",
       "      <td>162</td>\n",
       "      <td>1</td>\n",
       "      <td>10.0</td>\n",
       "      <td>0.5</td>\n",
       "      <td>0.5</td>\n",
       "      <td>2.82</td>\n",
       "      <td>0.0</td>\n",
       "      <td>0.3</td>\n",
       "      <td>14.12</td>\n",
       "    </tr>\n",
       "    <tr>\n",
       "      <th>3</th>\n",
       "      <td>22</td>\n",
       "      <td>6</td>\n",
       "      <td>3</td>\n",
       "      <td>490</td>\n",
       "      <td>2</td>\n",
       "      <td>1</td>\n",
       "      <td>3.86</td>\n",
       "      <td>1</td>\n",
       "      <td>237</td>\n",
       "      <td>41</td>\n",
       "      <td>1</td>\n",
       "      <td>12.0</td>\n",
       "      <td>0.5</td>\n",
       "      <td>0.5</td>\n",
       "      <td>3.99</td>\n",
       "      <td>0.0</td>\n",
       "      <td>0.3</td>\n",
       "      <td>17.29</td>\n",
       "    </tr>\n",
       "  </tbody>\n",
       "</table>\n",
       "</div>"
      ],
      "text/plain": [
       "   hpick  hdrop  month  duration  VendorID  passenger_count  trip_distance  \\\n",
       "0     21     21      3        14         2                1           4.06   \n",
       "2     22     22      3        10         2                1           2.27   \n",
       "3     22      6      3       490         2                1           3.86   \n",
       "\n",
       "   RatecodeID  PULocationID  DOLocationID  payment_type  fare_amount  extra  \\\n",
       "0           1           148            48             1         14.0    0.5   \n",
       "2           1            79           162             1         10.0    0.5   \n",
       "3           1           237            41             1         12.0    0.5   \n",
       "\n",
       "   mta_tax  tip_amount  tolls_amount  improvement_surcharge  total_amount  \n",
       "0      0.5        3.06           0.0                    0.3         18.36  \n",
       "2      0.5        2.82           0.0                    0.3         14.12  \n",
       "3      0.5        3.99           0.0                    0.3         17.29  "
      ]
     },
     "execution_count": 18,
     "metadata": {},
     "output_type": "execute_result"
    }
   ],
   "source": [
    "# Let's save it in another variable.\n",
    "newdf.drop(newdf.columns[[1,3,7,8,12,23]],axis=1,inplace=True)\n",
    "data_aux = newdf[payment_type & fare_amount & surcharge & mta_tax & tip_amount & tolls_amount]\n",
    "\n",
    "payment_type = None\n",
    "fare_amount = None\n",
    "surcharge = None\n",
    "mta_tax = None\n",
    "tip_amount = None\n",
    "tolls_amount = None\n",
    "\n",
    "data_aux.head(3)"
   ]
  },
  {
   "cell_type": "markdown",
   "metadata": {},
   "source": [
    "# TASK 2: DATA SUMMARY"
   ]
  },
  {
   "cell_type": "markdown",
   "metadata": {},
   "source": [
    "Taking into account all the comments done above we can appreciate that the different feature show a better structured and cleaner statistical meaning."
   ]
  },
  {
   "cell_type": "code",
   "execution_count": 19,
   "metadata": {},
   "outputs": [
    {
     "data": {
      "text/html": [
       "<div>\n",
       "<style scoped>\n",
       "    .dataframe tbody tr th:only-of-type {\n",
       "        vertical-align: middle;\n",
       "    }\n",
       "\n",
       "    .dataframe tbody tr th {\n",
       "        vertical-align: top;\n",
       "    }\n",
       "\n",
       "    .dataframe thead th {\n",
       "        text-align: right;\n",
       "    }\n",
       "</style>\n",
       "<table border=\"1\" class=\"dataframe\">\n",
       "  <thead>\n",
       "    <tr style=\"text-align: right;\">\n",
       "      <th></th>\n",
       "      <th>hpick</th>\n",
       "      <th>hdrop</th>\n",
       "      <th>month</th>\n",
       "      <th>duration</th>\n",
       "      <th>VendorID</th>\n",
       "      <th>passenger_count</th>\n",
       "      <th>trip_distance</th>\n",
       "      <th>RatecodeID</th>\n",
       "      <th>PULocationID</th>\n",
       "      <th>DOLocationID</th>\n",
       "      <th>payment_type</th>\n",
       "      <th>fare_amount</th>\n",
       "      <th>extra</th>\n",
       "      <th>mta_tax</th>\n",
       "      <th>tip_amount</th>\n",
       "      <th>tolls_amount</th>\n",
       "      <th>improvement_surcharge</th>\n",
       "      <th>total_amount</th>\n",
       "    </tr>\n",
       "  </thead>\n",
       "  <tbody>\n",
       "    <tr>\n",
       "      <th>count</th>\n",
       "      <td>1.842604e+07</td>\n",
       "      <td>1.842604e+07</td>\n",
       "      <td>1.842604e+07</td>\n",
       "      <td>1.842604e+07</td>\n",
       "      <td>1.842604e+07</td>\n",
       "      <td>1.842604e+07</td>\n",
       "      <td>1.842604e+07</td>\n",
       "      <td>1.842604e+07</td>\n",
       "      <td>1.842604e+07</td>\n",
       "      <td>1.842604e+07</td>\n",
       "      <td>18426040.0</td>\n",
       "      <td>1.842604e+07</td>\n",
       "      <td>1.842604e+07</td>\n",
       "      <td>18426040.0</td>\n",
       "      <td>1.842604e+07</td>\n",
       "      <td>1.842604e+07</td>\n",
       "      <td>1.842604e+07</td>\n",
       "      <td>1.842604e+07</td>\n",
       "    </tr>\n",
       "    <tr>\n",
       "      <th>mean</th>\n",
       "      <td>1.381862e+01</td>\n",
       "      <td>1.382218e+01</td>\n",
       "      <td>6.545641e+00</td>\n",
       "      <td>3.525725e+01</td>\n",
       "      <td>1.548863e+00</td>\n",
       "      <td>1.607601e+00</td>\n",
       "      <td>3.206349e+00</td>\n",
       "      <td>1.033280e+00</td>\n",
       "      <td>1.630370e+02</td>\n",
       "      <td>1.610178e+02</td>\n",
       "      <td>1.0</td>\n",
       "      <td>1.397262e+01</td>\n",
       "      <td>3.426913e-01</td>\n",
       "      <td>0.5</td>\n",
       "      <td>2.827502e+00</td>\n",
       "      <td>3.594089e-01</td>\n",
       "      <td>2.999880e-01</td>\n",
       "      <td>1.830794e+01</td>\n",
       "    </tr>\n",
       "    <tr>\n",
       "      <th>std</th>\n",
       "      <td>6.305617e+00</td>\n",
       "      <td>6.409683e+00</td>\n",
       "      <td>3.295344e+00</td>\n",
       "      <td>3.938123e+01</td>\n",
       "      <td>4.976067e-01</td>\n",
       "      <td>1.258418e+00</td>\n",
       "      <td>3.776484e+00</td>\n",
       "      <td>3.225208e-01</td>\n",
       "      <td>6.586966e+01</td>\n",
       "      <td>6.989433e+01</td>\n",
       "      <td>0.0</td>\n",
       "      <td>1.095396e+01</td>\n",
       "      <td>4.642061e-01</td>\n",
       "      <td>0.0</td>\n",
       "      <td>2.554994e+00</td>\n",
       "      <td>1.420090e+00</td>\n",
       "      <td>1.893410e-03</td>\n",
       "      <td>1.407693e+01</td>\n",
       "    </tr>\n",
       "    <tr>\n",
       "      <th>min</th>\n",
       "      <td>0.000000e+00</td>\n",
       "      <td>0.000000e+00</td>\n",
       "      <td>1.000000e+00</td>\n",
       "      <td>0.000000e+00</td>\n",
       "      <td>1.000000e+00</td>\n",
       "      <td>0.000000e+00</td>\n",
       "      <td>0.000000e+00</td>\n",
       "      <td>1.000000e+00</td>\n",
       "      <td>1.000000e+00</td>\n",
       "      <td>1.000000e+00</td>\n",
       "      <td>1.0</td>\n",
       "      <td>5.000000e+00</td>\n",
       "      <td>-5.000000e-01</td>\n",
       "      <td>0.5</td>\n",
       "      <td>0.000000e+00</td>\n",
       "      <td>0.000000e+00</td>\n",
       "      <td>0.000000e+00</td>\n",
       "      <td>5.500000e+00</td>\n",
       "    </tr>\n",
       "    <tr>\n",
       "      <th>25%</th>\n",
       "      <td>9.000000e+00</td>\n",
       "      <td>9.000000e+00</td>\n",
       "      <td>3.000000e+00</td>\n",
       "      <td>8.000000e+00</td>\n",
       "      <td>1.000000e+00</td>\n",
       "      <td>1.000000e+00</td>\n",
       "      <td>1.140000e+00</td>\n",
       "      <td>1.000000e+00</td>\n",
       "      <td>1.140000e+02</td>\n",
       "      <td>1.120000e+02</td>\n",
       "      <td>1.0</td>\n",
       "      <td>7.500000e+00</td>\n",
       "      <td>0.000000e+00</td>\n",
       "      <td>0.5</td>\n",
       "      <td>1.460000e+00</td>\n",
       "      <td>0.000000e+00</td>\n",
       "      <td>3.000000e-01</td>\n",
       "      <td>9.960000e+00</td>\n",
       "    </tr>\n",
       "    <tr>\n",
       "      <th>50%</th>\n",
       "      <td>1.500000e+01</td>\n",
       "      <td>1.500000e+01</td>\n",
       "      <td>6.000000e+00</td>\n",
       "      <td>1.500000e+01</td>\n",
       "      <td>2.000000e+00</td>\n",
       "      <td>1.000000e+00</td>\n",
       "      <td>1.830000e+00</td>\n",
       "      <td>1.000000e+00</td>\n",
       "      <td>1.620000e+02</td>\n",
       "      <td>1.620000e+02</td>\n",
       "      <td>1.0</td>\n",
       "      <td>1.050000e+01</td>\n",
       "      <td>0.000000e+00</td>\n",
       "      <td>0.5</td>\n",
       "      <td>2.050000e+00</td>\n",
       "      <td>0.000000e+00</td>\n",
       "      <td>3.000000e-01</td>\n",
       "      <td>1.355000e+01</td>\n",
       "    </tr>\n",
       "    <tr>\n",
       "      <th>75%</th>\n",
       "      <td>1.900000e+01</td>\n",
       "      <td>1.900000e+01</td>\n",
       "      <td>1.100000e+01</td>\n",
       "      <td>6.700000e+01</td>\n",
       "      <td>2.000000e+00</td>\n",
       "      <td>2.000000e+00</td>\n",
       "      <td>3.400000e+00</td>\n",
       "      <td>1.000000e+00</td>\n",
       "      <td>2.330000e+02</td>\n",
       "      <td>2.330000e+02</td>\n",
       "      <td>1.0</td>\n",
       "      <td>1.600000e+01</td>\n",
       "      <td>5.000000e-01</td>\n",
       "      <td>0.5</td>\n",
       "      <td>3.160000e+00</td>\n",
       "      <td>0.000000e+00</td>\n",
       "      <td>3.000000e-01</td>\n",
       "      <td>2.015000e+01</td>\n",
       "    </tr>\n",
       "    <tr>\n",
       "      <th>max</th>\n",
       "      <td>2.300000e+01</td>\n",
       "      <td>2.300000e+01</td>\n",
       "      <td>1.200000e+01</td>\n",
       "      <td>1.439000e+03</td>\n",
       "      <td>2.000000e+00</td>\n",
       "      <td>1.920000e+02</td>\n",
       "      <td>7.025000e+02</td>\n",
       "      <td>9.900000e+01</td>\n",
       "      <td>2.650000e+02</td>\n",
       "      <td>2.650000e+02</td>\n",
       "      <td>1.0</td>\n",
       "      <td>4.990000e+02</td>\n",
       "      <td>1.000000e+01</td>\n",
       "      <td>0.5</td>\n",
       "      <td>1.000000e+02</td>\n",
       "      <td>3.000000e+01</td>\n",
       "      <td>3.000000e-01</td>\n",
       "      <td>5.124200e+02</td>\n",
       "    </tr>\n",
       "  </tbody>\n",
       "</table>\n",
       "</div>"
      ],
      "text/plain": [
       "              hpick         hdrop         month      duration      VendorID  \\\n",
       "count  1.842604e+07  1.842604e+07  1.842604e+07  1.842604e+07  1.842604e+07   \n",
       "mean   1.381862e+01  1.382218e+01  6.545641e+00  3.525725e+01  1.548863e+00   \n",
       "std    6.305617e+00  6.409683e+00  3.295344e+00  3.938123e+01  4.976067e-01   \n",
       "min    0.000000e+00  0.000000e+00  1.000000e+00  0.000000e+00  1.000000e+00   \n",
       "25%    9.000000e+00  9.000000e+00  3.000000e+00  8.000000e+00  1.000000e+00   \n",
       "50%    1.500000e+01  1.500000e+01  6.000000e+00  1.500000e+01  2.000000e+00   \n",
       "75%    1.900000e+01  1.900000e+01  1.100000e+01  6.700000e+01  2.000000e+00   \n",
       "max    2.300000e+01  2.300000e+01  1.200000e+01  1.439000e+03  2.000000e+00   \n",
       "\n",
       "       passenger_count  trip_distance    RatecodeID  PULocationID  \\\n",
       "count     1.842604e+07   1.842604e+07  1.842604e+07  1.842604e+07   \n",
       "mean      1.607601e+00   3.206349e+00  1.033280e+00  1.630370e+02   \n",
       "std       1.258418e+00   3.776484e+00  3.225208e-01  6.586966e+01   \n",
       "min       0.000000e+00   0.000000e+00  1.000000e+00  1.000000e+00   \n",
       "25%       1.000000e+00   1.140000e+00  1.000000e+00  1.140000e+02   \n",
       "50%       1.000000e+00   1.830000e+00  1.000000e+00  1.620000e+02   \n",
       "75%       2.000000e+00   3.400000e+00  1.000000e+00  2.330000e+02   \n",
       "max       1.920000e+02   7.025000e+02  9.900000e+01  2.650000e+02   \n",
       "\n",
       "       DOLocationID  payment_type   fare_amount         extra     mta_tax  \\\n",
       "count  1.842604e+07    18426040.0  1.842604e+07  1.842604e+07  18426040.0   \n",
       "mean   1.610178e+02           1.0  1.397262e+01  3.426913e-01         0.5   \n",
       "std    6.989433e+01           0.0  1.095396e+01  4.642061e-01         0.0   \n",
       "min    1.000000e+00           1.0  5.000000e+00 -5.000000e-01         0.5   \n",
       "25%    1.120000e+02           1.0  7.500000e+00  0.000000e+00         0.5   \n",
       "50%    1.620000e+02           1.0  1.050000e+01  0.000000e+00         0.5   \n",
       "75%    2.330000e+02           1.0  1.600000e+01  5.000000e-01         0.5   \n",
       "max    2.650000e+02           1.0  4.990000e+02  1.000000e+01         0.5   \n",
       "\n",
       "         tip_amount  tolls_amount  improvement_surcharge  total_amount  \n",
       "count  1.842604e+07  1.842604e+07           1.842604e+07  1.842604e+07  \n",
       "mean   2.827502e+00  3.594089e-01           2.999880e-01  1.830794e+01  \n",
       "std    2.554994e+00  1.420090e+00           1.893410e-03  1.407693e+01  \n",
       "min    0.000000e+00  0.000000e+00           0.000000e+00  5.500000e+00  \n",
       "25%    1.460000e+00  0.000000e+00           3.000000e-01  9.960000e+00  \n",
       "50%    2.050000e+00  0.000000e+00           3.000000e-01  1.355000e+01  \n",
       "75%    3.160000e+00  0.000000e+00           3.000000e-01  2.015000e+01  \n",
       "max    1.000000e+02  3.000000e+01           3.000000e-01  5.124200e+02  "
      ]
     },
     "execution_count": 19,
     "metadata": {},
     "output_type": "execute_result"
    }
   ],
   "source": [
    "data_aux.describe()"
   ]
  },
  {
   "cell_type": "markdown",
   "metadata": {},
   "source": [
    "# Map representation"
   ]
  },
  {
   "cell_type": "markdown",
   "metadata": {},
   "source": [
    "As previously commented, location information is important to understand and correlate which are the busy regions in which the most of the traffic happens: for this database Manhattan seems to be the one in which more pickings and dropoffs happen."
   ]
  },
  {
   "cell_type": "code",
   "execution_count": 20,
   "metadata": {},
   "outputs": [
    {
     "data": {
      "text/plain": [
       "PULocationID\n",
       "237    1159313\n",
       "dtype: int64"
      ]
     },
     "execution_count": 20,
     "metadata": {},
     "output_type": "execute_result"
    }
   ],
   "source": [
    "ax = df.groupby(['PULocationID']).size()\n",
    "newax=(ax>=1159313) #50% of the histogram is the PULocationIDs most repeated\n",
    "ax[newax]"
   ]
  },
  {
   "cell_type": "code",
   "execution_count": 21,
   "metadata": {},
   "outputs": [
    {
     "data": {
      "text/plain": [
       "count    2.630000e+02\n",
       "mean     1.111651e+05\n",
       "std      2.234807e+05\n",
       "min      1.000000e+00\n",
       "25%      2.274500e+03\n",
       "50%      6.299000e+03\n",
       "75%      7.779250e+04\n",
       "max      1.090520e+06\n",
       "dtype: float64"
      ]
     },
     "execution_count": 21,
     "metadata": {},
     "output_type": "execute_result"
    }
   ],
   "source": [
    "ax2 = df.groupby(['DOLocationID']).size()\n",
    "ax2.describe()"
   ]
  },
  {
   "cell_type": "code",
   "execution_count": 22,
   "metadata": {},
   "outputs": [
    {
     "data": {
      "text/plain": [
       "DOLocationID\n",
       "236    1090520\n",
       "dtype: int64"
      ]
     },
     "execution_count": 22,
     "metadata": {},
     "output_type": "execute_result"
    }
   ],
   "source": [
    "newax2=(ax2>=1090510)\n",
    "ax2[newax2]"
   ]
  },
  {
   "cell_type": "markdown",
   "metadata": {},
   "source": [
    "Location 236 (the most repeated DOLocationID) and 237 (the most repeated PULocationID) correspond to Manhattan (as shown below in the arc file). We depict in a map the areas inside Manhattan Location."
   ]
  },
  {
   "cell_type": "code",
   "execution_count": 23,
   "metadata": {},
   "outputs": [
    {
     "name": "stdout",
     "output_type": "stream",
     "text": [
      "     OBJECTID  Shape_Leng  Shape_Area                                 zone  \\\n",
      "0           1    0.116357    0.000782                       Newark Airport   \n",
      "1           2    0.433470    0.004866                          Jamaica Bay   \n",
      "2           3    0.084341    0.000314              Allerton/Pelham Gardens   \n",
      "3           4    0.043567    0.000112                        Alphabet City   \n",
      "4           5    0.092146    0.000498                        Arden Heights   \n",
      "5           6    0.150491    0.000606              Arrochar/Fort Wadsworth   \n",
      "6           7    0.107417    0.000390                              Astoria   \n",
      "7           8    0.027591    0.000027                         Astoria Park   \n",
      "8           9    0.099784    0.000338                           Auburndale   \n",
      "9          10    0.099839    0.000436                         Baisley Park   \n",
      "10         11    0.079211    0.000265                           Bath Beach   \n",
      "11         12    0.036661    0.000042                         Battery Park   \n",
      "12         13    0.050281    0.000149                    Battery Park City   \n",
      "13         14    0.175214    0.001382                            Bay Ridge   \n",
      "14         15    0.144336    0.000925              Bay Terrace/Fort Totten   \n",
      "15         16    0.141292    0.000872                              Bayside   \n",
      "16         17    0.093523    0.000323                              Bedford   \n",
      "17         18    0.069800    0.000149                         Bedford Park   \n",
      "18         19    0.101825    0.000547                            Bellerose   \n",
      "19         20    0.051440    0.000135                              Belmont   \n",
      "20         21    0.115974    0.000380                     Bensonhurst East   \n",
      "21         22    0.126170    0.000472                     Bensonhurst West   \n",
      "22         23    0.290556    0.002196              Bloomfield/Emerson Hill   \n",
      "23         24    0.047000    0.000061                         Bloomingdale   \n",
      "24         25    0.047146    0.000124                          Boerum Hill   \n",
      "25         26    0.123548    0.000534                         Borough Park   \n",
      "26         27    0.202509    0.001341  Breezy Point/Fort Tilden/Riis Beach   \n",
      "27         28    0.097961    0.000291              Briarwood/Jamaica Hills   \n",
      "28         29    0.071408    0.000202                       Brighton Beach   \n",
      "29         30    0.094510    0.000146                        Broad Channel   \n",
      "..        ...         ...         ...                                  ...   \n",
      "233       234    0.036072    0.000073                             Union Sq   \n",
      "234       235    0.076167    0.000213    University Heights/Morris Heights   \n",
      "235       236    0.044252    0.000103                Upper East Side North   \n",
      "236       237    0.042213    0.000096                Upper East Side South   \n",
      "237       238    0.060109    0.000185                Upper West Side North   \n",
      "238       239    0.063626    0.000205                Upper West Side South   \n",
      "239       240    0.146070    0.000722                   Van Cortlandt Park   \n",
      "240       241    0.068765    0.000255                Van Cortlandt Village   \n",
      "241       242    0.138136    0.000360                 Van Nest/Morris Park   \n",
      "242       243    0.094331    0.000438             Washington Heights North   \n",
      "243       244    0.080569    0.000360             Washington Heights South   \n",
      "244       245    0.095983    0.000466                        West Brighton   \n",
      "245       246    0.069467    0.000281            West Chelsea/Hudson Yards   \n",
      "246       247    0.092968    0.000206                       West Concourse   \n",
      "247       248    0.056919    0.000150               West Farms/Bronx River   \n",
      "248       249    0.036384    0.000072                         West Village   \n",
      "249       250    0.079626    0.000241        Westchester Village/Unionport   \n",
      "250       251    0.137711    0.000626                          Westerleigh   \n",
      "251       252    0.158004    0.001025                           Whitestone   \n",
      "252       253    0.036051    0.000078                        Willets Point   \n",
      "253       254    0.085886    0.000360             Williamsbridge/Olinville   \n",
      "254       255    0.062384    0.000172            Williamsburg (North Side)   \n",
      "255       256    0.067915    0.000169            Williamsburg (South Side)   \n",
      "256       257    0.058669    0.000139                      Windsor Terrace   \n",
      "257       258    0.089013    0.000366                            Woodhaven   \n",
      "258       259    0.126750    0.000395                   Woodlawn/Wakefield   \n",
      "259       260    0.133514    0.000422                             Woodside   \n",
      "260       261    0.027120    0.000034                   World Trade Center   \n",
      "261       262    0.049064    0.000122                       Yorkville East   \n",
      "262       263    0.037017    0.000066                       Yorkville West   \n",
      "\n",
      "     LocationID        borough  \\\n",
      "0             1            EWR   \n",
      "1             2         Queens   \n",
      "2             3          Bronx   \n",
      "3             4      Manhattan   \n",
      "4             5  Staten Island   \n",
      "5             6  Staten Island   \n",
      "6             7         Queens   \n",
      "7             8         Queens   \n",
      "8             9         Queens   \n",
      "9            10         Queens   \n",
      "10           11       Brooklyn   \n",
      "11           12      Manhattan   \n",
      "12           13      Manhattan   \n",
      "13           14       Brooklyn   \n",
      "14           15         Queens   \n",
      "15           16         Queens   \n",
      "16           17       Brooklyn   \n",
      "17           18          Bronx   \n",
      "18           19         Queens   \n",
      "19           20          Bronx   \n",
      "20           21       Brooklyn   \n",
      "21           22       Brooklyn   \n",
      "22           23  Staten Island   \n",
      "23           24      Manhattan   \n",
      "24           25       Brooklyn   \n",
      "25           26       Brooklyn   \n",
      "26           27         Queens   \n",
      "27           28         Queens   \n",
      "28           29       Brooklyn   \n",
      "29           30         Queens   \n",
      "..          ...            ...   \n",
      "233         234      Manhattan   \n",
      "234         235          Bronx   \n",
      "235         236      Manhattan   \n",
      "236         237      Manhattan   \n",
      "237         238      Manhattan   \n",
      "238         239      Manhattan   \n",
      "239         240          Bronx   \n",
      "240         241          Bronx   \n",
      "241         242          Bronx   \n",
      "242         243      Manhattan   \n",
      "243         244      Manhattan   \n",
      "244         245  Staten Island   \n",
      "245         246      Manhattan   \n",
      "246         247          Bronx   \n",
      "247         248          Bronx   \n",
      "248         249      Manhattan   \n",
      "249         250          Bronx   \n",
      "250         251  Staten Island   \n",
      "251         252         Queens   \n",
      "252         253         Queens   \n",
      "253         254          Bronx   \n",
      "254         255       Brooklyn   \n",
      "255         256       Brooklyn   \n",
      "256         257       Brooklyn   \n",
      "257         258         Queens   \n",
      "258         259          Bronx   \n",
      "259         260         Queens   \n",
      "260         261      Manhattan   \n",
      "261         262      Manhattan   \n",
      "262         263      Manhattan   \n",
      "\n",
      "                                              geometry  \n",
      "0    POLYGON ((933100.9183527103 192536.0856972019,...  \n",
      "1    (POLYGON ((1033269.243591294 172126.0078125, 1...  \n",
      "2    POLYGON ((1026308.769506663 256767.6975403726,...  \n",
      "3    POLYGON ((992073.4667968601 203714.0759887695,...  \n",
      "4    POLYGON ((935843.3104932606 144283.335850656, ...  \n",
      "5    POLYGON ((966568.7466657609 158679.854687795, ...  \n",
      "6    POLYGON ((1010804.217962816 218919.6406951398,...  \n",
      "7    POLYGON ((1005482.276373357 221686.4661663175,...  \n",
      "8    POLYGON ((1043803.993348822 216615.9250395149,...  \n",
      "9    POLYGON ((1044355.071716622 190734.3208969831,...  \n",
      "10   POLYGON ((983945.0764576197 158978.1743570715,...  \n",
      "11   POLYGON ((979908.771901235 196066.5651661754, ...  \n",
      "12   POLYGON ((980801.3095727563 201248.8694928288,...  \n",
      "13   POLYGON ((974794.2377850115 174019.1569889635,...  \n",
      "14   POLYGON ((1045882.128784165 229577.4934082031,...  \n",
      "15   POLYGON ((1048344.039282173 223210.6211042106,...  \n",
      "16   POLYGON ((1000036.903658479 194829.4335601628,...  \n",
      "17   POLYGON ((1016019.236756966 254945.1285311133,...  \n",
      "18   POLYGON ((1060888.899369195 212784.6402245313,...  \n",
      "19   POLYGON ((1016371.834450901 254183.4010844678,...  \n",
      "20   POLYGON ((991418.0430896282 161321.4343791008,...  \n",
      "21   POLYGON ((986318.1618502587 166716.4167082906,...  \n",
      "22   POLYGON ((929937.1547851712 170690.8093871921,...  \n",
      "23   POLYGON ((995453.1139255464 230274.2667761594,...  \n",
      "24   POLYGON ((989365.8368552327 190351.5051010698,...  \n",
      "25   POLYGON ((988880.1350600719 172984.7996842116,...  \n",
      "26   POLYGON ((1021692.96872507 147138.6642488837, ...  \n",
      "27   POLYGON ((1041798.318280578 200273.1431976855,...  \n",
      "28   POLYGON ((995347.3233350515 151779.9016462415,...  \n",
      "29   POLYGON ((1034013.271803156 163473.1523993015,...  \n",
      "..                                                 ...  \n",
      "233  POLYGON ((987029.846865043 207022.299148649, 9...  \n",
      "234  POLYGON ((1009288.915832013 253270.4798109829,...  \n",
      "235  POLYGON ((995940.0483185351 221122.9204267859,...  \n",
      "236  POLYGON ((993633.4421878606 216961.0161020756,...  \n",
      "237  POLYGON ((992877.8795208782 225627.5341552496,...  \n",
      "238  POLYGON ((991168.978660062 226252.9918017238, ...  \n",
      "239  POLYGON ((1018410.343897685 266056.2902376503,...  \n",
      "240  POLYGON ((1015108.497305706 261514.5311272144,...  \n",
      "241  POLYGON ((1029641.164543986 248417.2709470242,...  \n",
      "242  POLYGON ((1003177.340226665 256097.3178337663,...  \n",
      "243  POLYGON ((1000658.690342069 249440.2053396255,...  \n",
      "244  POLYGON ((957085.5637141168 172591.26044029, 9...  \n",
      "245  POLYGON ((983031.1771850735 217138.5057983696,...  \n",
      "246  POLYGON ((1008537.234100372 246182.7741577774,...  \n",
      "247  POLYGON ((1021898.260202393 245357.487218082, ...  \n",
      "248  POLYGON ((983555.3191627562 204876.9009866714,...  \n",
      "249  POLYGON ((1026991.88503854 245048.5015527904, ...  \n",
      "250  POLYGON ((947868.0038990378 169247.733566612, ...  \n",
      "251  POLYGON ((1033946.682983413 231157.9963989556,...  \n",
      "252  POLYGON ((1028825.348043799 218121.4202396572,...  \n",
      "253  POLYGON ((1025214.477145091 259577.3009863347,...  \n",
      "254  POLYGON ((994849.0109181255 203499.266764462, ...  \n",
      "255  POLYGON ((995798.6380253732 199155.9703431576,...  \n",
      "256  POLYGON ((989842.5477474183 179997.8561532795,...  \n",
      "257  POLYGON ((1027223.758115649 190451.9262744337,...  \n",
      "258  POLYGON ((1025414.781960189 270986.1393638253,...  \n",
      "259  POLYGON ((1011466.966050446 216463.0052037984,...  \n",
      "260  POLYGON ((980555.2043112218 196138.486258477, ...  \n",
      "261  (POLYGON ((999804.7945504487 224498.5270484537...  \n",
      "262  POLYGON ((997493.3227153122 220912.3861623257,...  \n",
      "\n",
      "[263 rows x 7 columns]\n"
     ]
    }
   ],
   "source": [
    "import geopandas as gpd\n",
    "gdf = gpd.read_file('/Users/rosa/Desktop/CARTOTask/taxi_zones.shp')\n",
    "print (gdf)"
   ]
  },
  {
   "cell_type": "code",
   "execution_count": 24,
   "metadata": {},
   "outputs": [
    {
     "data": {
      "text/plain": [
       "<matplotlib.axes._subplots.AxesSubplot at 0x1a19eccbe0>"
      ]
     },
     "execution_count": 24,
     "metadata": {},
     "output_type": "execute_result"
    },
    {
     "data": {
      "image/png": "[encoded data removed]",
      "text/plain": [
       "<Figure size 432x288 with 1 Axes>"
      ]
     },
     "metadata": {
      "needs_background": "light"
     },
     "output_type": "display_data"
    }
   ],
   "source": [
    "import matplotlib\n",
    "%matplotlib inline\n",
    "gdf.plot()\n",
    "\n"
   ]
  },
  {
   "cell_type": "code",
   "execution_count": 25,
   "metadata": {},
   "outputs": [
    {
     "data": {
      "image/png": "[encoded data removed]",
      "text/plain": [
       "<Figure size 432x288 with 1 Axes>"
      ]
     },
     "metadata": {
      "needs_background": "light"
     },
     "output_type": "display_data"
    }
   ],
   "source": [
    "# Paint areas in region of Manhattan (the most of the taxi traffic)\n",
    "gdf = gdf[(gdf.borough==\"Manhattan\")]\n",
    "gdf.plot(column='Shape_Area', cmap='OrRd');"
   ]
  },
  {
   "cell_type": "markdown",
   "metadata": {},
   "source": [
    "# TASK 3: MODEL BUILDING"
   ]
  },
  {
   "cell_type": "markdown",
   "metadata": {},
   "source": [
    "# SELECTION OF A CLASSIFIER"
   ]
  },
  {
   "cell_type": "markdown",
   "metadata": {},
   "source": [
    "Random Forests is a flexible, easy to use machine learning algorithm that produces great results. It can be used as regressor or classifier. It is a supervised learning algorithm. The forest it builds is an ensemble of decision trees trained with the bagging method. We can conclude that the combination of learning models increases the overall result."
   ]
  },
  {
   "cell_type": "code",
   "execution_count": 26,
   "metadata": {},
   "outputs": [],
   "source": [
    "import matplotlib.pyplot as plt\n",
    "import numpy as np\n",
    "import pandas as pd\n",
    "import seaborn as sns\n",
    "\n",
    "from matplotlib import cm as cmap\n",
    "\n",
    "from sklearn.model_selection import train_test_split\n",
    "from sklearn.ensemble import RandomForestClassifier\n",
    "from sklearn.metrics import confusion_matrix, precision_recall_curve, roc_curve, auc\n",
    "from sklearn.preprocessing import LabelEncoder\n",
    "\n",
    "sns.set(font='sans')"
   ]
  },
  {
   "cell_type": "markdown",
   "metadata": {},
   "source": [
    "I will use classification in two classes taking into account the tip distribution obtained in the model description for credit card payment: bad tip ('0' label, 0-3 dollars) or good tip ('1' label, more that 3 dollars). In this sense there is higher probability of building a reliable model that with many classes or the values or the tips (regression). "
   ]
  },
  {
   "cell_type": "code",
   "execution_count": 27,
   "metadata": {},
   "outputs": [],
   "source": [
    "\n",
    "feature_columns = ['hpick','hdrop','month','duration','VendorID','passenger_count','trip_distance','RatecodeID','PULocationID','DOLocationID','fare_amount','extra','mta_tax','tolls_amount','improvement_surcharge','total_amount']\n",
    "label_column = 'tip_amount'\n"
   ]
  },
  {
   "cell_type": "code",
   "execution_count": 34,
   "metadata": {},
   "outputs": [],
   "source": [
    "class1 = ((data_aux[label_column] >= 0.0) & (data_aux[label_column] < 3))\n",
    "class2 = (data_aux[label_column] >= 3.0) "
   ]
  },
  {
   "cell_type": "code",
   "execution_count": 35,
   "metadata": {},
   "outputs": [],
   "source": [
    "y=(data_aux[label_column] >= 0.0)\n",
    "y[class1]='0'\n",
    "y[class2]='1'\n",
    "\n",
    "X=data_aux[feature_columns]"
   ]
  },
  {
   "cell_type": "markdown",
   "metadata": {},
   "source": [
    "When analysing big datasets, it is important to reduce dimensionality. Principal component analysis is a well established mathematical technique for reducing the dimensionaliyty of data, while keeping as much variation as possible. I have used 10 components. Feature Ranking with Random Forest gini index would have been an interesting possibility to know which features are more correlated with a tip recommender tool."
   ]
  },
  {
   "cell_type": "code",
   "execution_count": 64,
   "metadata": {},
   "outputs": [],
   "source": [
    "from sklearn.decomposition import PCA\n",
    "pca = PCA(n_components=10)\n",
    "principalComponents = pca.fit_transform(X)\n",
    "principalDf = pd.DataFrame(data = principalComponents,columns = ['1', '2','3','4','5','6','7','8','9','10'])\n"
   ]
  },
  {
   "cell_type": "markdown",
   "metadata": {},
   "source": [
    "Train (70%) and test (30%) have been randomly selected from card data. 100 estimators for building the RF model."
   ]
  },
  {
   "cell_type": "code",
   "execution_count": 65,
   "metadata": {},
   "outputs": [],
   "source": [
    "from sklearn.model_selection import train_test_split\n"
   ]
  },
  {
   "cell_type": "code",
   "execution_count": 66,
   "metadata": {},
   "outputs": [],
   "source": [
    "\n",
    "train, test, train_labels, test_labels = train_test_split(principalDf,\n",
    "                                         y, \n",
    "                                         stratify = y,\n",
    "                                         test_size = 0.3, \n",
    "                                         random_state = 42)"
   ]
  },
  {
   "cell_type": "code",
   "execution_count": 67,
   "metadata": {},
   "outputs": [],
   "source": [
    "model = RandomForestClassifier(n_estimators=100, \n",
    "                               random_state=42, \n",
    "                               max_features = 'sqrt',\n",
    "                               n_jobs=-1, verbose = 1)"
   ]
  },
  {
   "cell_type": "code",
   "execution_count": 68,
   "metadata": {},
   "outputs": [
    {
     "name": "stderr",
     "output_type": "stream",
     "text": [
      "[Parallel(n_jobs=-1)]: Using backend ThreadingBackend with 4 concurrent workers.\n",
      "[Parallel(n_jobs=-1)]: Done  42 tasks      | elapsed: 43.6min\n",
      "[Parallel(n_jobs=-1)]: Done 100 out of 100 | elapsed: 102.1min finished\n"
     ]
    },
    {
     "data": {
      "text/plain": [
       "RandomForestClassifier(bootstrap=True, class_weight=None, criterion='gini',\n",
       "            max_depth=None, max_features='sqrt', max_leaf_nodes=None,\n",
       "            min_impurity_decrease=0.0, min_impurity_split=None,\n",
       "            min_samples_leaf=1, min_samples_split=2,\n",
       "            min_weight_fraction_leaf=0.0, n_estimators=100, n_jobs=-1,\n",
       "            oob_score=False, random_state=42, verbose=1, warm_start=False)"
      ]
     },
     "execution_count": 68,
     "metadata": {},
     "output_type": "execute_result"
    }
   ],
   "source": [
    "\n",
    "model.fit(train, train_labels)\n"
   ]
  },
  {
   "cell_type": "markdown",
   "metadata": {},
   "source": [
    "# MODEL PERFORMANCE"
   ]
  },
  {
   "cell_type": "markdown",
   "metadata": {},
   "source": [
    "In the following, the performance of the algorithm is analysed. 98% of accuracy. As the classes are well ballanced, we can see a similar performance for recomending to the client if the taxi driver deserved a good tip or a bad tip (F1 score is a good indicative). We leave some flexibility to the client as a tip is always subjective."
   ]
  },
  {
   "cell_type": "raw",
   "metadata": {},
   "source": [
    " predictions = model.predict(test)"
   ]
  },
  {
   "cell_type": "code",
   "execution_count": 74,
   "metadata": {},
   "outputs": [
    {
     "name": "stderr",
     "output_type": "stream",
     "text": [
      "[Parallel(n_jobs=4)]: Using backend ThreadingBackend with 4 concurrent workers.\n",
      "[Parallel(n_jobs=4)]: Done  42 tasks      | elapsed:   32.1s\n",
      "[Parallel(n_jobs=4)]: Done 100 out of 100 | elapsed:  1.2min finished\n"
     ]
    },
    {
     "data": {
      "text/plain": [
       "0.9894676229944144"
      ]
     },
     "execution_count": 74,
     "metadata": {},
     "output_type": "execute_result"
    }
   ],
   "source": [
    "y_pred=model.predict(test)\n",
    "from sklearn import metrics\n",
    "metrics.accuracy_score(test_labels, y_pred)"
   ]
  },
  {
   "cell_type": "code",
   "execution_count": 87,
   "metadata": {},
   "outputs": [
    {
     "name": "stdout",
     "output_type": "stream",
     "text": [
      "population: 5527812\n",
      "P: 1597665\n",
      "N: 3930147\n",
      "PositiveTest: 1594918\n",
      "NegativeTest: 3932894\n",
      "TP: 1567181\n",
      "TN: 3902410\n",
      "FP: 27737\n",
      "FN: 30484\n",
      "TPR: 0.9809196546209624\n",
      "TNR: 0.9929425031684566\n",
      "PPV: 0.9826091372722611\n",
      "NPV: 0.99224896475725\n",
      "FPR: 0.007057496831543451\n",
      "FDR: 0.01739086272773898\n",
      "FNR: 0.019080345379037533\n",
      "ACC: 0.9894676229944144\n",
      "F1_score: 0.9817636691042958\n",
      "MCC: 2750.255927106552\n",
      "informedness: 0.9738621577894189\n",
      "markedness: 0.9748581020295111\n",
      "prevalence: 0.28902303479206604\n",
      "LRP: 138.98974070193646\n",
      "LRN: 0.01921596196975413\n",
      "DOR: 7233.0357918435675\n",
      "FOR: 0.007751035242749995\n"
     ]
    },
    {
     "name": "stderr",
     "output_type": "stream",
     "text": [
      "/anaconda3/lib/python3.7/site-packages/pandas_ml/confusion_matrix/bcm.py:302: RuntimeWarning: overflow encountered in long_scalars\n",
      "  * (self.TN + self.FP) * (self.TN + self.FN)))\n"
     ]
    }
   ],
   "source": [
    "from pandas_ml import ConfusionMatrix\n",
    "confusion_matrix = ConfusionMatrix(list(map(int, test_labels)), list(map(int, y_pred)))\n",
    "confusion_matrix.print_stats()"
   ]
  },
  {
   "cell_type": "markdown",
   "metadata": {},
   "source": [
    "# LIMITATIONS OR CAVEATS OF THE MODEL WHICH MIGHT BE AN ISSUE"
   ]
  },
  {
   "cell_type": "markdown",
   "metadata": {},
   "source": [
    "this model created for the card sample size will be tested with the \"cash\" payment_type in which the tip is set to 0\n",
    "(this could be a possible cause of fraud)"
   ]
  },
  {
   "cell_type": "code",
   "execution_count": 93,
   "metadata": {},
   "outputs": [],
   "source": [
    "payment_type = (newdf.payment_type == 2) #payment_type=2 (cash) has a tip of 0 always, so it will add noise to the model\n",
    "fare_amount = ((newdf.fare_amount >= 5.0) & (newdf.fare_amount <= 500.0))\n",
    "surcharge = ((newdf.improvement_surcharge == 0.0) | (newdf.improvement_surcharge == 0.3))\n",
    "mta_tax = (newdf.mta_tax == 0.5)\n",
    "tip_amount = ((newdf.tip_amount >= 0.0) & (newdf.tip_amount <= 100.0))\n",
    "tolls_amount = ((newdf.tolls_amount >= 0.0) & (newdf.tolls_amount <= 30.0))\n",
    "\n",
    "data_cash = newdf[payment_type & fare_amount & surcharge & mta_tax & tip_amount & tolls_amount]\n",
    "\n",
    "payment_type = None\n",
    "fare_amount = None\n",
    "surcharge = None\n",
    "mta_tax = None\n",
    "tip_amount = None\n",
    "tolls_amount = None\n",
    "\n",
    "feature_columns = ['hpick','hdrop','month','duration','VendorID','passenger_count','trip_distance','RatecodeID','PULocationID','DOLocationID','fare_amount','extra','mta_tax','tolls_amount','improvement_surcharge','total_amount']\n",
    "label_column = 'tip_amount'\n",
    "class1 = ((data_cash[label_column] >= 0.0) & (data_cash[label_column] < 3))\n",
    "class2 = (data_cash[label_column] >= 3.0) \n",
    "ycash=(data_cash[label_column] >= 0.0)\n",
    "ycash[class1]='0'\n",
    "ycash[class2]='1'\n",
    "\n",
    "testcash=data_cash[feature_columns]\n",
    "pca = PCA(n_components=10)\n",
    "principalComponentscash = pca.fit_transform(testcash)\n",
    "principalDfcash = pd.DataFrame(data = principalComponentscash,columns = ['1', '2','3','4','5','6','7','8','9','10'])\n"
   ]
  },
  {
   "cell_type": "code",
   "execution_count": 94,
   "metadata": {},
   "outputs": [
    {
     "name": "stderr",
     "output_type": "stream",
     "text": [
      "[Parallel(n_jobs=4)]: Using backend ThreadingBackend with 4 concurrent workers.\n",
      "[Parallel(n_jobs=4)]: Done  42 tasks      | elapsed:   29.5s\n",
      "[Parallel(n_jobs=4)]: Done 100 out of 100 | elapsed:  1.1min finished\n"
     ]
    },
    {
     "data": {
      "text/plain": [
       "0.6454601990356331"
      ]
     },
     "execution_count": 94,
     "metadata": {},
     "output_type": "execute_result"
    }
   ],
   "source": [
    "predictionscash = model.predict(principalDfcash)\n",
    "\n",
    "metrics.accuracy_score(ycash, predictionscash)"
   ]
  },
  {
   "cell_type": "markdown",
   "metadata": {},
   "source": [
    "As expected, the accuracy for the cash model has decreased due to the fraud cases (and not just fraud, the taxi driver can not ask more money he deserved if the client is a bit miserly). By default the tip is \"bad\"(=0) for cash dataset. But the algorithm predicts that 35% of  tips should be good and it's not the case. Additionally, they are not being declared (fraud cases). Confusion matrix supports the accuracy results."
   ]
  },
  {
   "cell_type": "code",
   "execution_count": 96,
   "metadata": {},
   "outputs": [
    {
     "data": {
      "text/plain": [
       "Predicted    False     True  __all__\n",
       "Actual                              \n",
       "False      5237214  2876709  8113923\n",
       "True             0        1        1\n",
       "__all__    5237214  2876710  8113924"
      ]
     },
     "execution_count": 96,
     "metadata": {},
     "output_type": "execute_result"
    }
   ],
   "source": [
    "confusion_matrixcash = ConfusionMatrix(list(map(int, ycash)), list(map(int, predictionscash)))\n",
    "confusion_matrixcash.print_stats()"
   ]
  },
  {
   "cell_type": "markdown",
   "metadata": {},
   "source": [
    "# POSSIBLE IMPROVEMENTS OF THE ALGORITHM"
   ]
  },
  {
   "cell_type": "markdown",
   "metadata": {},
   "source": [
    "Some of the improvements have been commented during this analysis. For example, use more geolocation information to know the shorter trajectories between two points. Use calendar information: work days, holidays dates, weekends etc. Add more months and in the case of big data use new technologies as spark or cloudera etc. Study in depth the features we have, establish correlation analysis. Make some feature engineering, combine and create new KPIs that can improve models. Use different machine learning algorithms, for example deep learning to establish with more accuracy what could be a tip with more accuracy (than just good/bad tip). Improve models with label noise reduction, study fraud techniques based on anomaly detection. Use a semi supervised learning to predict non-labeled data (cash for example) etc etc "
   ]
  },
  {
   "cell_type": "markdown",
   "metadata": {},
   "source": [
    "# HOW TURN A MODEL INTO AN API THE COMPANY CAN USE"
   ]
  },
  {
   "cell_type": "markdown",
   "metadata": {},
   "source": [
    "Training a machine learning model is a heavy task for a mobile device and not all ML libraries have APIs build for accessing the model stored on the mobile phone. \n",
    "The best possibility consists in using a Client-Server architecture where the trained model is stored on the server and the web server accepts requests from the client (taxi driver) which is the input for the model and the model predicts the response that is sent to the driver. Client can be a web browser or a mobile app (the latter i think is the best from the business point of view). In this case, GPS should be connected to the app to introduce automatically the features just pressing one button when the trip starts and ends.\n",
    "\n",
    "-A way of making a model is as in the following:\n",
    "\n",
    "1.Write the machine learning code. It can be a scikit-learn, Tensorflow, Keras, Theano or just using Numpy code, whatever you choose for the task.\n",
    "\n",
    "2.Train the model on your system or any cloud.\n",
    "\n",
    "3.Create a web server. You can use Flask/Django/php or any other framework.\n",
    "\n",
    "     3.1. You loaded the dataset and selected the best features.\n",
    " \n",
    "     3.2.You did the necessary data preprocessing.\n",
    " \n",
    "     3.3.You built a RF classifier and serialized it.You also serialized all the columns from training as a solution to the less than expected number of columns is to persist the list of columns from training. I think this with an automatic connection to GPS could be solved automatically.\n",
    " \n",
    "    3.4. You then wrote a simple API using Flask that would predict if a tip should be good or bad.\n",
    "\n",
    "4.Store your model onto the server and extract input parameters from incoming requests and feed it to the model.\n",
    "\n",
    "5.The model predicts the result which is sent back to the client.\n",
    "\n"
   ]
  }
 ],
 "metadata": {
  "kernelspec": {
   "display_name": "Python 3",
   "language": "python",
   "name": "python3"
  },
  "language_info": {
   "codemirror_mode": {
    "name": "ipython",
    "version": 3
   },
   "file_extension": ".py",
   "mimetype": "text/x-python",
   "name": "python",
   "nbconvert_exporter": "python",
   "pygments_lexer": "ipython3",
   "version": "3.7.1"
  }
 },
 "nbformat": 4,
 "nbformat_minor": 2
}
